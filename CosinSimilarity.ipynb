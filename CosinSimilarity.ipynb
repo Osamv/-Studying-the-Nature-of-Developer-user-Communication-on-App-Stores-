{
 "cells": [
  {
   "cell_type": "code",
   "execution_count": 12,
   "id": "f7303a69",
   "metadata": {},
   "outputs": [],
   "source": [
    "import pandas as pd\n",
    "import numpy as np"
   ]
  },
  {
   "cell_type": "code",
   "execution_count": 13,
   "id": "97088b17",
   "metadata": {},
   "outputs": [],
   "source": [
    "df = pd.read_csv(\"df_test.csv\")"
   ]
  },
  {
   "cell_type": "code",
   "execution_count": 14,
   "id": "e79f8f49",
   "metadata": {},
   "outputs": [
    {
     "data": {
      "text/html": [
       "<div>\n",
       "<style scoped>\n",
       "    .dataframe tbody tr th:only-of-type {\n",
       "        vertical-align: middle;\n",
       "    }\n",
       "\n",
       "    .dataframe tbody tr th {\n",
       "        vertical-align: top;\n",
       "    }\n",
       "\n",
       "    .dataframe thead th {\n",
       "        text-align: right;\n",
       "    }\n",
       "</style>\n",
       "<table border=\"1\" class=\"dataframe\">\n",
       "  <thead>\n",
       "    <tr style=\"text-align: right;\">\n",
       "      <th></th>\n",
       "      <th>developer_response</th>\n",
       "      <th>Count</th>\n",
       "      <th>label</th>\n",
       "      <th>sim_value</th>\n",
       "    </tr>\n",
       "  </thead>\n",
       "  <tbody>\n",
       "    <tr>\n",
       "      <th>0</th>\n",
       "      <td>We sincerely thank you for taking the time to ...</td>\n",
       "      <td>1</td>\n",
       "      <td>NaN</td>\n",
       "      <td>0.72</td>\n",
       "    </tr>\n",
       "    <tr>\n",
       "      <th>1</th>\n",
       "      <td>مرحبا يسعدنا سماع ذلك وهدفنا الاول ارضاؤكم شكرا</td>\n",
       "      <td>1</td>\n",
       "      <td>NaN</td>\n",
       "      <td>0.85</td>\n",
       "    </tr>\n",
       "    <tr>\n",
       "      <th>2</th>\n",
       "      <td>مرحبا اشرف يسرنا سماع ذلك ونتمني ان نكون عند ح...</td>\n",
       "      <td>1</td>\n",
       "      <td>NaN</td>\n",
       "      <td>0.95</td>\n",
       "    </tr>\n",
       "    <tr>\n",
       "      <th>3</th>\n",
       "      <td>مرحبا عمار يسرنا سماع ذلك ونتمني ان نكون عند ح...</td>\n",
       "      <td>1</td>\n",
       "      <td>NaN</td>\n",
       "      <td>0.95</td>\n",
       "    </tr>\n",
       "    <tr>\n",
       "      <th>4</th>\n",
       "      <td>مرحبا توم يسرنا سماع ذلك ونتمني ان نكون عند حس...</td>\n",
       "      <td>1</td>\n",
       "      <td>Generic</td>\n",
       "      <td>0.97</td>\n",
       "    </tr>\n",
       "  </tbody>\n",
       "</table>\n",
       "</div>"
      ],
      "text/plain": [
       "                                  developer_response  Count    label  \\\n",
       "0  We sincerely thank you for taking the time to ...      1      NaN   \n",
       "1    مرحبا يسعدنا سماع ذلك وهدفنا الاول ارضاؤكم شكرا      1      NaN   \n",
       "2  مرحبا اشرف يسرنا سماع ذلك ونتمني ان نكون عند ح...      1      NaN   \n",
       "3  مرحبا عمار يسرنا سماع ذلك ونتمني ان نكون عند ح...      1      NaN   \n",
       "4  مرحبا توم يسرنا سماع ذلك ونتمني ان نكون عند حس...      1  Generic   \n",
       "\n",
       "   sim_value  \n",
       "0       0.72  \n",
       "1       0.85  \n",
       "2       0.95  \n",
       "3       0.95  \n",
       "4       0.97  "
      ]
     },
     "execution_count": 14,
     "metadata": {},
     "output_type": "execute_result"
    }
   ],
   "source": [
    "df.head()"
   ]
  },
  {
   "cell_type": "code",
   "execution_count": 15,
   "id": "582a0c7a",
   "metadata": {},
   "outputs": [],
   "source": [
    "df_c = df.copy()"
   ]
  },
  {
   "cell_type": "code",
   "execution_count": 16,
   "id": "398852f0",
   "metadata": {},
   "outputs": [
    {
     "data": {
      "text/html": [
       "<div>\n",
       "<style scoped>\n",
       "    .dataframe tbody tr th:only-of-type {\n",
       "        vertical-align: middle;\n",
       "    }\n",
       "\n",
       "    .dataframe tbody tr th {\n",
       "        vertical-align: top;\n",
       "    }\n",
       "\n",
       "    .dataframe thead th {\n",
       "        text-align: right;\n",
       "    }\n",
       "</style>\n",
       "<table border=\"1\" class=\"dataframe\">\n",
       "  <thead>\n",
       "    <tr style=\"text-align: right;\">\n",
       "      <th></th>\n",
       "      <th>developer_response</th>\n",
       "      <th>Count</th>\n",
       "      <th>label</th>\n",
       "      <th>sim_value</th>\n",
       "    </tr>\n",
       "  </thead>\n",
       "  <tbody>\n",
       "    <tr>\n",
       "      <th>0</th>\n",
       "      <td>We sincerely thank you for taking the time to ...</td>\n",
       "      <td>1</td>\n",
       "      <td>NaN</td>\n",
       "      <td>0.72</td>\n",
       "    </tr>\n",
       "    <tr>\n",
       "      <th>1</th>\n",
       "      <td>مرحبا يسعدنا سماع ذلك وهدفنا الاول ارضاؤكم شكرا</td>\n",
       "      <td>1</td>\n",
       "      <td>NaN</td>\n",
       "      <td>0.85</td>\n",
       "    </tr>\n",
       "    <tr>\n",
       "      <th>2</th>\n",
       "      <td>مرحبا اشرف يسرنا سماع ذلك ونتمني ان نكون عند ح...</td>\n",
       "      <td>1</td>\n",
       "      <td>NaN</td>\n",
       "      <td>0.95</td>\n",
       "    </tr>\n",
       "    <tr>\n",
       "      <th>3</th>\n",
       "      <td>مرحبا عمار يسرنا سماع ذلك ونتمني ان نكون عند ح...</td>\n",
       "      <td>1</td>\n",
       "      <td>NaN</td>\n",
       "      <td>0.95</td>\n",
       "    </tr>\n",
       "    <tr>\n",
       "      <th>4</th>\n",
       "      <td>مرحبا توم يسرنا سماع ذلك ونتمني ان نكون عند حس...</td>\n",
       "      <td>1</td>\n",
       "      <td>Generic</td>\n",
       "      <td>0.97</td>\n",
       "    </tr>\n",
       "  </tbody>\n",
       "</table>\n",
       "</div>"
      ],
      "text/plain": [
       "                                  developer_response  Count    label  \\\n",
       "0  We sincerely thank you for taking the time to ...      1      NaN   \n",
       "1    مرحبا يسعدنا سماع ذلك وهدفنا الاول ارضاؤكم شكرا      1      NaN   \n",
       "2  مرحبا اشرف يسرنا سماع ذلك ونتمني ان نكون عند ح...      1      NaN   \n",
       "3  مرحبا عمار يسرنا سماع ذلك ونتمني ان نكون عند ح...      1      NaN   \n",
       "4  مرحبا توم يسرنا سماع ذلك ونتمني ان نكون عند حس...      1  Generic   \n",
       "\n",
       "   sim_value  \n",
       "0       0.72  \n",
       "1       0.85  \n",
       "2       0.95  \n",
       "3       0.95  \n",
       "4       0.97  "
      ]
     },
     "execution_count": 16,
     "metadata": {},
     "output_type": "execute_result"
    }
   ],
   "source": [
    "df_c.head()"
   ]
  },
  {
   "cell_type": "code",
   "execution_count": 17,
   "id": "d429afd6",
   "metadata": {
    "scrolled": true
   },
   "outputs": [
    {
     "name": "stdout",
     "output_type": "stream",
     "text": [
      "1441\n"
     ]
    }
   ],
   "source": [
    "c = 0\n",
    "for i in range(0, len(df_c)):       \n",
    "    #df.iloc[i]['developer_response']        \n",
    "    if df_c.loc[i , 'sim_value'] == 0.95:\n",
    "        df_c.loc[i ,'label'] = \"Generic\"\n",
    "        #print ( df_c.loc[i]['label'])\n",
    "        c += 1\n",
    "    \n",
    "#     if i == 100:\n",
    "#         break\n",
    "print (c)"
   ]
  },
  {
   "cell_type": "code",
   "execution_count": 18,
   "id": "af44534d",
   "metadata": {},
   "outputs": [
    {
     "name": "stdout",
     "output_type": "stream",
     "text": [
      "22498\n"
     ]
    }
   ],
   "source": [
    "c = 0\n",
    "for i in range(0, len(df_c)):       \n",
    "    #df.iloc[i]['developer_response']        \n",
    "    if pd.isna( df_c.loc[i , 'label']):\n",
    "        df_c.loc[i ,'label'] = \"Custom\"\n",
    "        #print ( df_c.loc[i]['label'])\n",
    "        c += 1\n",
    "    \n",
    "#     if i == 100:\n",
    "#         break\n",
    "print (c)"
   ]
  },
  {
   "cell_type": "code",
   "execution_count": null,
   "id": "3877d931",
   "metadata": {},
   "outputs": [],
   "source": []
  },
  {
   "cell_type": "code",
   "execution_count": null,
   "id": "0dfd9b8b",
   "metadata": {},
   "outputs": [],
   "source": []
  },
  {
   "cell_type": "code",
   "execution_count": 19,
   "id": "d699f06d",
   "metadata": {},
   "outputs": [],
   "source": [
    "label_ = list(df_c['label']) "
   ]
  },
  {
   "cell_type": "code",
   "execution_count": 20,
   "id": "e5910c46",
   "metadata": {},
   "outputs": [
    {
     "name": "stdout",
     "output_type": "stream",
     "text": [
      "43566\n"
     ]
    }
   ],
   "source": [
    "#search for frequencies sentnecte and count to map\n",
    "mp = dict()\n",
    "def count(arr, n):    \n",
    "    # Traverse through array elements\n",
    "    # and count frequencies\n",
    "    for i in range(n):\n",
    "        if arr[i] in mp.keys():\n",
    "            mp[arr[i]] += 1\n",
    "        else:\n",
    "            mp[arr[i]] = 1\n",
    "            \n",
    "n = len(label_) \n",
    "print (n)\n",
    "count(label_, n)\n"
   ]
  },
  {
   "cell_type": "code",
   "execution_count": 21,
   "id": "4624e550",
   "metadata": {},
   "outputs": [
    {
     "data": {
      "text/plain": [
       "{'Custom': 22498, 'Generic': 21068}"
      ]
     },
     "execution_count": 21,
     "metadata": {},
     "output_type": "execute_result"
    }
   ],
   "source": [
    "mp"
   ]
  },
  {
   "cell_type": "code",
   "execution_count": 23,
   "id": "a07d8a31",
   "metadata": {},
   "outputs": [],
   "source": [
    "df_c.to_csv(\"data_labeling_custom.csv\", encoding='utf-8-sig', index=False , header=True)"
   ]
  },
  {
   "cell_type": "code",
   "execution_count": null,
   "id": "8f92d8e8",
   "metadata": {},
   "outputs": [],
   "source": []
  },
  {
   "cell_type": "code",
   "execution_count": null,
   "id": "af53659f",
   "metadata": {},
   "outputs": [],
   "source": []
  }
 ],
 "metadata": {
  "kernelspec": {
   "display_name": "Python 3 (ipykernel)",
   "language": "python",
   "name": "python3"
  },
  "language_info": {
   "codemirror_mode": {
    "name": "ipython",
    "version": 3
   },
   "file_extension": ".py",
   "mimetype": "text/x-python",
   "name": "python",
   "nbconvert_exporter": "python",
   "pygments_lexer": "ipython3",
   "version": "3.9.13"
  }
 },
 "nbformat": 4,
 "nbformat_minor": 5
}
