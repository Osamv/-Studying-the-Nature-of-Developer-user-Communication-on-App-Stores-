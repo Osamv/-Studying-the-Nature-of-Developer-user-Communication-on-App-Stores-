{
 "cells": [
  {
   "cell_type": "code",
   "execution_count": 1,
   "id": "52bf55d1",
   "metadata": {},
   "outputs": [],
   "source": [
    "# reading data\n",
    "import pandas as pd\n",
    "data = pd.read_csv('Combined_files.csv',encoding='utf-8-sig')"
   ]
  },
  {
   "cell_type": "code",
   "execution_count": 2,
   "id": "70c4a42a",
   "metadata": {},
   "outputs": [
    {
     "data": {
      "text/html": [
       "<div>\n",
       "<style scoped>\n",
       "    .dataframe tbody tr th:only-of-type {\n",
       "        vertical-align: middle;\n",
       "    }\n",
       "\n",
       "    .dataframe tbody tr th {\n",
       "        vertical-align: top;\n",
       "    }\n",
       "\n",
       "    .dataframe thead th {\n",
       "        text-align: right;\n",
       "    }\n",
       "</style>\n",
       "<table border=\"1\" class=\"dataframe\">\n",
       "  <thead>\n",
       "    <tr style=\"text-align: right;\">\n",
       "      <th></th>\n",
       "      <th>source</th>\n",
       "      <th>review_id</th>\n",
       "      <th>user_name</th>\n",
       "      <th>review_description</th>\n",
       "      <th>rating</th>\n",
       "      <th>review_date</th>\n",
       "      <th>developer_response</th>\n",
       "      <th>developer_response_date</th>\n",
       "    </tr>\n",
       "  </thead>\n",
       "  <tbody>\n",
       "    <tr>\n",
       "      <th>0</th>\n",
       "      <td>Google Play</td>\n",
       "      <td>d855686a-7ebe-4cef-911f-3d124bc2d61a</td>\n",
       "      <td>‫عمرو محمد (داود)‬‎</td>\n",
       "      <td>very good</td>\n",
       "      <td>5</td>\n",
       "      <td>2023-01-04 15:47:27</td>\n",
       "      <td>We sincerely thank you for taking the time to ...</td>\n",
       "      <td>2023-01-04 21:06:38</td>\n",
       "    </tr>\n",
       "    <tr>\n",
       "      <th>1</th>\n",
       "      <td>Google Play</td>\n",
       "      <td>0491e3b8-c262-4ef3-ab74-4a962a7a28ee</td>\n",
       "      <td>Moath Tobasi</td>\n",
       "      <td>ارمكس برنامج ممتاز لا يوجد اي تعليق المواعيد ف...</td>\n",
       "      <td>5</td>\n",
       "      <td>2023-01-04 15:46:03</td>\n",
       "      <td>سعيدين بخدمتك وشكراً لتقييمك نتطلع لخدمتك مستق...</td>\n",
       "      <td>2023-01-04 15:12:31</td>\n",
       "    </tr>\n",
       "    <tr>\n",
       "      <th>2</th>\n",
       "      <td>Google Play</td>\n",
       "      <td>0b537bf6-2dc3-4d4b-b239-6e6b916eaadc</td>\n",
       "      <td>Mohamed Mohamedy</td>\n",
       "      <td>فوق الممتاز</td>\n",
       "      <td>5</td>\n",
       "      <td>2023-01-04 14:07:14</td>\n",
       "      <td>سعيدين بخدمتك وشكراً لتقييمك نتطلع لخدمتك مستق...</td>\n",
       "      <td>2023-01-04 19:51:33</td>\n",
       "    </tr>\n",
       "    <tr>\n",
       "      <th>3</th>\n",
       "      <td>Google Play</td>\n",
       "      <td>5e50884e-e69a-4d05-8ae3-0b0aea7f278c</td>\n",
       "      <td>temoo tamam</td>\n",
       "      <td>خدمة سيئة جدا وعدم الالتزام بمواعيد التسليم وخ...</td>\n",
       "      <td>1</td>\n",
       "      <td>2023-01-04 13:52:23</td>\n",
       "      <td>مرحباً، عذراً منك على ذلك! نود الحصول على تفاص...</td>\n",
       "      <td>2023-01-04 19:30:51</td>\n",
       "    </tr>\n",
       "    <tr>\n",
       "      <th>4</th>\n",
       "      <td>Google Play</td>\n",
       "      <td>c29dbb95-8dfa-4918-94ca-5e124d405930</td>\n",
       "      <td>tufool mab</td>\n",
       "      <td>شكرا على حسن تعاونكم معنا</td>\n",
       "      <td>5</td>\n",
       "      <td>2023-01-04 06:42:33</td>\n",
       "      <td>يسرنا سماع ذلك، ونتمنى أن نكون عند حسن ظنك دائ...</td>\n",
       "      <td>2023-01-04 15:50:52</td>\n",
       "    </tr>\n",
       "  </tbody>\n",
       "</table>\n",
       "</div>"
      ],
      "text/plain": [
       "        source                             review_id            user_name  \\\n",
       "0  Google Play  d855686a-7ebe-4cef-911f-3d124bc2d61a  ‫عمرو محمد (داود)‬‎   \n",
       "1  Google Play  0491e3b8-c262-4ef3-ab74-4a962a7a28ee         Moath Tobasi   \n",
       "2  Google Play  0b537bf6-2dc3-4d4b-b239-6e6b916eaadc     Mohamed Mohamedy   \n",
       "3  Google Play  5e50884e-e69a-4d05-8ae3-0b0aea7f278c          temoo tamam   \n",
       "4  Google Play  c29dbb95-8dfa-4918-94ca-5e124d405930           tufool mab   \n",
       "\n",
       "                                  review_description  rating  \\\n",
       "0                                          very good       5   \n",
       "1  ارمكس برنامج ممتاز لا يوجد اي تعليق المواعيد ف...       5   \n",
       "2                                        فوق الممتاز       5   \n",
       "3  خدمة سيئة جدا وعدم الالتزام بمواعيد التسليم وخ...       1   \n",
       "4                          شكرا على حسن تعاونكم معنا       5   \n",
       "\n",
       "           review_date                                 developer_response  \\\n",
       "0  2023-01-04 15:47:27  We sincerely thank you for taking the time to ...   \n",
       "1  2023-01-04 15:46:03  سعيدين بخدمتك وشكراً لتقييمك نتطلع لخدمتك مستق...   \n",
       "2  2023-01-04 14:07:14  سعيدين بخدمتك وشكراً لتقييمك نتطلع لخدمتك مستق...   \n",
       "3  2023-01-04 13:52:23  مرحباً، عذراً منك على ذلك! نود الحصول على تفاص...   \n",
       "4  2023-01-04 06:42:33  يسرنا سماع ذلك، ونتمنى أن نكون عند حسن ظنك دائ...   \n",
       "\n",
       "  developer_response_date  \n",
       "0     2023-01-04 21:06:38  \n",
       "1     2023-01-04 15:12:31  \n",
       "2     2023-01-04 19:51:33  \n",
       "3     2023-01-04 19:30:51  \n",
       "4     2023-01-04 15:50:52  "
      ]
     },
     "execution_count": 2,
     "metadata": {},
     "output_type": "execute_result"
    }
   ],
   "source": [
    "data.head()"
   ]
  },
  {
   "cell_type": "code",
   "execution_count": 3,
   "id": "56fb4b2c",
   "metadata": {},
   "outputs": [
    {
     "data": {
      "text/plain": [
       "(740349, 8)"
      ]
     },
     "execution_count": 3,
     "metadata": {},
     "output_type": "execute_result"
    }
   ],
   "source": [
    "data.shape"
   ]
  },
  {
   "cell_type": "code",
   "execution_count": 4,
   "id": "d26748c8",
   "metadata": {},
   "outputs": [
    {
     "data": {
      "text/plain": [
       "source                          0\n",
       "review_id                       0\n",
       "user_name                       3\n",
       "review_description            727\n",
       "rating                          0\n",
       "review_date                     0\n",
       "developer_response         455381\n",
       "developer_response_date    455381\n",
       "dtype: int64"
      ]
     },
     "execution_count": 4,
     "metadata": {},
     "output_type": "execute_result"
    }
   ],
   "source": [
    "# check missing values\n",
    "data.isna().sum()"
   ]
  },
  {
   "cell_type": "markdown",
   "id": "2d8e8293",
   "metadata": {},
   "source": [
    "#viulastion"
   ]
  },
  {
   "cell_type": "code",
   "execution_count": 5,
   "id": "25390398",
   "metadata": {},
   "outputs": [
    {
     "data": {
      "text/plain": [
       "<AxesSubplot:>"
      ]
     },
     "execution_count": 5,
     "metadata": {},
     "output_type": "execute_result"
    },
    {
     "data": {
      "image/png": "[encoded data removed]",
      "text/plain": [
       "<Figure size 640x480 with 1 Axes>"
      ]
     },
     "metadata": {},
     "output_type": "display_data"
    }
   ],
   "source": [
    "# sum of future have row is null\n",
    "data.isna().sum()[data.isna().sum()>0].plot(kind='bar')"
   ]
  },
  {
   "cell_type": "code",
   "execution_count": 6,
   "id": "6d8700fc",
   "metadata": {},
   "outputs": [],
   "source": [
    "#remove null row\n",
    "df = data.dropna(how='any',axis=0 ) .reset_index(drop=True)\n",
    "#df.head()\n",
    "#del data"
   ]
  },
  {
   "cell_type": "code",
   "execution_count": 7,
   "id": "a1ffe7f4",
   "metadata": {},
   "outputs": [
    {
     "data": {
      "text/plain": [
       "(284956, 8)"
      ]
     },
     "execution_count": 7,
     "metadata": {},
     "output_type": "execute_result"
    }
   ],
   "source": [
    "# check data shape befor drop row null\n",
    "df.shape"
   ]
  },
  {
   "cell_type": "markdown",
   "id": "17c62bab",
   "metadata": {},
   "source": [
    "# Text Preprocessing"
   ]
  },
  {
   "cell_type": "markdown",
   "id": "93f1d32e",
   "metadata": {},
   "source": [
    "This is where all text cleaning takes place. It’s a loop that iterates through all 5,572 documents and does the following:\n",
    "\n",
    "    Remove all special characters\n",
    "    Lowercase all the words\n",
    "    Tokenize\n",
    "    Remove stopwords\n",
    "    Lemmatize\n"
   ]
  },
  {
   "cell_type": "code",
   "execution_count": 8,
   "id": "62d5fb3b",
   "metadata": {},
   "outputs": [],
   "source": [
    "#cleaning emjo from data"
   ]
  },
  {
   "cell_type": "code",
   "execution_count": 9,
   "id": "4b62b89f",
   "metadata": {},
   "outputs": [],
   "source": [
    "import re\n",
    "def remove_emojis(data):\n",
    "    emoj = re.compile(\"[\"\n",
    "                           u\"\\U0001F600-\\U0001F64F\" #emotions\n",
    "                           u\"\\U0001F300-\\U0001F5FF\" #sumbols and pictographs\n",
    "                           u\"\\U0001F680-\\U0001F6FF\" #transport and map symbols\n",
    "                           u\"\\U0001F1E0-\\U0001F1FF\" #flags\n",
    "                           u\"\\U00002702-\\U000027B0\"  \n",
    "                           u\"\\U000024C2-\\U0001F251\" \n",
    "\n",
    "                           \"]+\",flags = re.UNICODE)\n",
    "\n",
    "    return re.sub(emoj, '', data)"
   ]
  },
  {
   "cell_type": "code",
   "execution_count": 10,
   "id": "4bde7a22",
   "metadata": {},
   "outputs": [],
   "source": [
    "for i in range(len(df)):    \n",
    "    #print( i , data.iloc[i, 6])\n",
    "    df.iloc[i,6] = remove_emojis(df.iloc[i,6])\n",
    "    \n",
    "#     if i == 30 :\n",
    "#         break"
   ]
  },
  {
   "cell_type": "code",
   "execution_count": 11,
   "id": "93e00932",
   "metadata": {},
   "outputs": [
    {
     "data": {
      "text/plain": [
       "source                     0\n",
       "review_id                  0\n",
       "user_name                  0\n",
       "review_description         0\n",
       "rating                     0\n",
       "review_date                0\n",
       "developer_response         0\n",
       "developer_response_date    0\n",
       "dtype: int64"
      ]
     },
     "execution_count": 11,
     "metadata": {},
     "output_type": "execute_result"
    }
   ],
   "source": [
    "# check missing values\n",
    "df.isna().sum()"
   ]
  },
  {
   "cell_type": "code",
   "execution_count": 12,
   "id": "c2768c0a",
   "metadata": {},
   "outputs": [
    {
     "data": {
      "text/plain": [
       "(284956, 8)"
      ]
     },
     "execution_count": 12,
     "metadata": {},
     "output_type": "execute_result"
    }
   ],
   "source": [
    "df.shape"
   ]
  },
  {
   "cell_type": "markdown",
   "id": "50d0f714",
   "metadata": {},
   "source": [
    "### Clean/Normalize Arabic Text"
   ]
  },
  {
   "cell_type": "code",
   "execution_count": 13,
   "id": "295a092e",
   "metadata": {},
   "outputs": [],
   "source": [
    "import gensim\n",
    "import re\n",
    "# Clean/Normalize Arabic Text\n",
    "def clean_str(text):\n",
    "    search = [\"أ\",\"إ\",\"آ\",\"ة\",\"_\",\"-\",\"/\",\".\",\"،\",\" و \",\" يا \",'\"',\"ـ\",\"'\",\"ى\",\"\\\\\",'\\n', '\\t','&quot;','?','؟','!']\n",
    "    replace = [\"ا\",\"ا\",\"ا\",\"ه\",\" \",\" \",\"\",\"\",\"\",\" و\",\" يا\",\"\",\"\",\"\",\"ي\",\"\",' ', ' ',' ',' ? ',' ؟ ',' ! ']\n",
    "    \n",
    "    #remove tashkeel\n",
    "    p_tashkeel = re.compile(r'[\\u0617-\\u061A\\u064B-\\u0652]')\n",
    "    text = re.sub(p_tashkeel,\"\", text)\n",
    "    \n",
    "    #remove longation\n",
    "    p_longation = re.compile(r'(.)\\1+')\n",
    "    subst = r\"\\1\\1\"\n",
    "    text = re.sub(p_longation, subst, text)\n",
    "    \n",
    "    text = text.replace('وو', 'و')\n",
    "    text = text.replace('يي', 'ي')\n",
    "    text = text.replace('اا', 'ا')\n",
    "    for i in range(0, len(search)):\n",
    "        text = text.replace(search[i], replace[i])    \n",
    "        \n",
    "    #trim    \n",
    "    text = text.strip()\n",
    "\n",
    "    return text"
   ]
  },
  {
   "cell_type": "code",
   "execution_count": 14,
   "id": "4792276a",
   "metadata": {},
   "outputs": [],
   "source": [
    "for i in range(len(df)):    \n",
    "    df.iloc[i,6] = clean_str(df.iloc[i,6])"
   ]
  },
  {
   "cell_type": "markdown",
   "id": "41d771ce",
   "metadata": {},
   "source": [
    "### remove if developer_response if data less two leater"
   ]
  },
  {
   "cell_type": "code",
   "execution_count": 15,
   "id": "e424b3df",
   "metadata": {},
   "outputs": [],
   "source": [
    "listIndex = []\n",
    "for i in range(len(df)):\n",
    "    #ww = df.loc[i,\"developer_response\"] \n",
    "    ww = df.iloc[i,6] \n",
    "    if len (ww) <= 2  or not ww.strip():\n",
    "        #print( i , df.iloc[i, 6])        \n",
    "        listIndex.append(i)"
   ]
  },
  {
   "cell_type": "code",
   "execution_count": 16,
   "id": "f08e93d2",
   "metadata": {},
   "outputs": [
    {
     "name": "stdout",
     "output_type": "stream",
     "text": [
      "1121\n",
      "[9114, 9116, 9124, 9139, 9146, 9149, 9152, 9154, 9156, 9159, 9160, 9163, 9165, 9167, 9168, 9170, 9171, 9172, 9174, 9176, 9178, 9181, 9182, 9183, 9184, 9186, 9188, 9189, 9190, 9191, 9192, 9193, 9194, 9196, 9197, 9198, 9976, 10632, 10648, 10780, 10858, 10867, 11101, 25556, 40014, 40019, 40024, 40978, 40987, 41007, 41062, 41070, 41092, 41107, 41115, 41128, 41140, 41153, 41161, 41179, 41184, 41205, 41221, 41233, 41245, 41249, 41251, 41275, 41277, 41294, 41345, 41347, 41413, 41449, 41563, 41577, 41585, 41613, 41619, 41630, 41652, 41653, 41657, 41723, 41798, 41847, 41849, 41864, 41877, 41893, 41898, 41910, 41975, 41999, 42017, 42037, 42051, 42056, 42097, 42098, 42116, 42146, 42168, 42179, 42220, 42227, 42300, 42304, 42320, 42325, 42327, 42333, 42342, 42350, 42356, 42357, 42367, 42428, 42448, 42526, 42534, 42543, 42608, 42620, 42634, 42670, 42677, 42692, 42716, 42724, 42728, 42775, 42776, 42778, 42830, 42863, 42873, 42897, 42910, 43045, 43163, 43173, 43295, 43707, 43730, 43893, 43913, 43932, 43942, 44068, 44299, 44366, 44456, 44470, 44670, 44671, 52063, 57265, 60647, 66588, 71685, 87993, 88316, 88656, 88934, 89499, 90253, 90683, 91440, 94246, 95546, 96294, 96705, 97042, 98141, 100058, 110894, 169867, 169921, 170381, 170433, 170449, 171152, 176038, 176234, 176246, 176349, 176364, 176373, 176376, 176444, 177108, 177214, 177227, 177303, 177588, 177717, 177915, 178220, 178292, 178378, 178597, 178691, 178808, 179411, 179595, 179673, 179954, 180030, 180140, 180342, 180705, 180772, 180941, 181102, 181306, 181525, 181623, 182049, 182305, 182385, 182453, 182491, 182528, 182545, 182817, 183125, 183128, 183768, 183784, 183938, 184531, 185132, 185307, 185885, 185916, 185939, 186090, 186168, 186226, 186326, 186353, 186360, 186485, 186695, 187309, 187491, 187540, 187583, 187643, 187671, 187854, 187863, 187872, 188222, 188251, 188258, 188435, 188440, 188443, 188583, 188584, 188646, 188713, 188714, 188768, 188793, 188798, 188835, 188886, 188895, 188911, 188912, 188914, 188917, 188977, 189059, 189065, 189072, 189073, 189111, 189144, 189181, 189190, 189196, 189217, 189234, 189252, 189280, 189327, 189336, 189349, 189354, 189372, 189376, 189399, 189401, 189405, 189466, 189526, 189543, 189564, 189585, 189588, 189618, 189620, 189630, 189639, 189649, 189773, 189813, 189837, 189882, 189925, 189926, 189949, 189958, 189961, 189962, 189963, 189981, 189986, 190003, 190031, 190038, 190047, 190050, 190058, 190073, 190075, 190090, 190127, 190152, 190156, 190176, 190177, 190179, 190180, 190181, 190183, 190184, 190193, 190195, 190197, 190202, 190213, 190218, 190220, 190231, 190255, 190269, 190270, 190282, 190284, 190289, 190311, 190314, 190322, 190325, 190358, 190391, 190428, 190429, 190430, 190505, 190506, 190516, 190543, 190544, 190545, 190547, 190595, 190598, 190678, 190685, 190691, 190705, 190715, 190716, 190735, 190765, 190785, 190786, 190789, 190806, 190810, 190839, 190862, 190874, 190927, 190960, 191011, 191014, 191018, 191104, 191110, 191118, 191119, 191126, 191151, 191157, 191321, 191324, 191327, 191367, 191377, 191427, 191446, 191458, 191522, 191524, 191536, 191539, 191557, 191558, 191616, 191642, 191676, 191677, 191690, 191691, 191701, 191712, 191735, 191740, 191818, 191930, 191947, 191948, 191949, 191950, 191955, 191959, 191964, 192156, 192246, 192257, 192259, 192264, 192272, 192276, 192294, 192306, 192330, 192333, 192381, 192383, 192399, 192421, 192441, 192457, 192489, 192497, 192504, 192548, 192583, 192626, 192834, 192893, 192939, 193035, 193044, 193137, 193182, 193184, 193188, 193217, 193255, 193272, 193445, 193891, 193998, 194017, 194091, 194405, 194406, 194407, 194467, 194537, 194541, 194545, 194561, 194593, 194876, 194969, 194973, 195094, 195222, 195230, 195316, 195373, 195447, 195477, 195613, 195652, 195696, 195785, 195789, 195864, 195866, 195894, 195909, 195987, 196028, 196085, 196107, 196109, 196146, 196147, 196148, 196151, 196223, 196254, 196258, 196261, 196284, 196286, 196303, 196307, 196309, 196323, 196350, 196501, 196508, 196510, 196511, 196515, 196517, 196677, 196740, 196796, 196935, 196947, 197010, 197040, 197088, 197093, 197102, 197126, 197134, 197138, 197139, 197140, 197159, 197162, 197163, 197164, 197168, 197243, 197259, 197314, 197330, 197369, 197371, 197471, 197517, 197554, 197562, 197565, 197567, 197573, 197576, 197616, 197640, 197679, 197716, 197723, 197762, 197784, 197799, 197827, 197904, 197965, 197979, 198035, 198064, 198075, 198103, 198119, 198139, 198153, 198163, 198168, 198202, 198249, 198260, 198316, 198345, 198346, 198347, 198348, 198358, 198368, 198369, 198371, 198374, 198379, 198398, 198405, 198406, 198407, 198420, 198429, 198503, 198510, 198528, 198556, 198558, 198559, 198572, 198575, 198581, 198646, 198727, 198732, 198734, 198756, 198761, 198762, 198836, 198904, 198942, 198994, 198999, 199009, 199097, 199127, 199149, 199150, 199192, 199225, 199333, 199350, 199354, 199427, 199478, 199483, 199487, 199496, 199497, 199540, 199628, 199747, 199749, 199758, 199827, 199881, 199994, 200079, 200149, 200152, 200156, 200158, 200161, 200169, 200296, 200311, 200347, 200363, 200441, 200444, 200450, 200460, 200461, 200469, 200522, 200525, 200549, 200636, 200649, 200661, 200662, 200666, 200668, 200778, 200958, 200981, 200984, 201240, 201248, 201266, 201267, 201422, 201865, 201870, 201881, 201885, 202035, 202045, 202102, 202473, 203082, 203237, 203238, 203454, 203510, 203520, 203526, 203750, 203773, 203788, 203844, 203907, 203916, 203919, 203948, 204047, 204056, 204072, 204093, 204138, 204139, 204243, 204347, 204396, 204418, 204440, 204456, 204465, 204521, 204599, 204600, 204631, 204635, 204639, 204667, 204721, 204744, 204760, 204784, 204785, 204799, 204804, 204811, 204820, 204854, 204872, 204906, 204907, 204912, 204931, 204990, 205009, 205101, 205107, 205111, 205120, 205245, 205327, 205350, 205355, 205356, 205361, 205379, 205396, 205537, 205550, 205552, 205561, 205595, 205641, 205697, 205719, 205726, 205728, 205747, 205756, 205798, 205802, 205819, 205824, 205828, 205849, 205867, 205876, 205933, 205968, 205970, 206000, 206079, 206081, 206231, 206302, 206308, 206312, 206329, 206432, 206452, 206525, 206526, 206548, 206553, 206568, 206637, 206649, 206661, 206670, 206762, 206767, 206792, 206835, 206837, 206840, 206857, 206864, 206876, 206918, 206957, 207008, 207049, 207056, 207062, 207095, 207115, 207140, 207169, 207199, 207224, 207266, 207347, 207398, 207400, 207407, 207411, 207472, 207481, 207489, 207514, 207537, 207573, 207576, 207605, 207607, 207627, 207766, 207791, 207809, 207810, 207830, 207942, 207945, 207946, 207963, 207977, 207999, 208054, 208120, 208123, 208149, 208156, 208158, 208191, 208221, 208237, 208241, 208248, 208253, 208256, 208294, 208307, 208308, 208327, 208332, 208363, 208427, 208443, 208455, 208464, 208469, 208476, 208486, 208536, 208539, 208562, 208573, 208587, 208599, 208616, 208618, 208641, 208673, 208675, 208720, 208728, 208735, 208736, 208741, 208742, 208749, 208752, 208761, 208767, 208770, 208773, 208789, 208801, 208838, 208843, 208847, 208894, 208942, 209017, 209048, 209077, 209101, 209106, 209120, 209127, 209138, 209139, 209140, 209177, 209187, 209192, 209296, 209344, 209350, 209380, 209392, 209420, 209475, 209506, 209633, 209688, 209689, 209697, 209785, 209789, 209856, 209892, 209929, 209940, 209951, 209971, 209977, 210022, 210029, 210060, 210153, 210186, 210190, 210281, 210285, 210385, 210431, 210434, 210437, 210438, 210493, 210542, 210552, 210593, 210607, 210676, 210678, 210688, 210782, 210784, 210787, 210791, 210794, 210802, 210804, 210807, 210809, 211118, 211134, 211209, 211216, 211248, 211494, 211497, 211599, 211600, 211686, 211905, 211981, 212105, 212108, 212110, 212225, 212251, 212358, 212460, 212510, 212627, 212634, 212645, 212649, 212654, 212660, 212688, 213080, 213411, 213413, 213419, 213421, 213423, 213700, 213709, 213863, 213876, 213979, 214360, 214361, 214451, 214465, 214497, 214572, 214575, 214658, 214810, 214811, 214812, 214813, 214814, 214815, 214850, 214852, 214855, 214857, 214859, 214860, 214862, 214863, 214865, 214987, 215015, 215240, 215443, 215565, 215607, 215741, 215833, 215883, 216041, 216104, 217002, 217306, 217308, 217315, 217334, 217338, 217368, 217391, 218580, 218582, 218765, 218776, 218777, 218794, 218799, 218800, 218807, 218808, 218810, 220609, 221475, 221601, 221629, 221630, 221634, 221905, 223134, 223620, 225411, 225801, 226219, 227173, 229103, 230705, 230725, 230729, 230735, 230903, 231611, 231649, 234557, 234591, 234698, 234702, 236507, 238703, 257162, 257167, 257171, 258234, 258762, 258783, 258893, 259249, 260470, 260854, 261339, 261531, 261557, 261764, 261850, 261970, 262219, 262266, 262425, 262934, 263453, 263516, 263535, 263538, 263604, 263606, 263655, 264091, 264114, 264181, 264507, 265009, 265017, 265442, 265675, 271213, 276941, 283906]\n"
     ]
    }
   ],
   "source": [
    "print (len (listIndex))\n",
    "print (listIndex)"
   ]
  },
  {
   "cell_type": "code",
   "execution_count": 17,
   "id": "c7f5de28",
   "metadata": {},
   "outputs": [],
   "source": [
    "df_new = df.drop(listIndex)\n",
    "\n",
    "df_new.set_axis(range(len(df_new)), inplace=True)\n",
    "\n",
    "df_new.shape\n",
    "\n",
    "del df"
   ]
  },
  {
   "cell_type": "code",
   "execution_count": 18,
   "id": "92dab4a0",
   "metadata": {},
   "outputs": [],
   "source": [
    "df_new.to_csv(\"data_cleaning.csv\", encoding='utf-8-sig', index=False , header=True)"
   ]
  },
  {
   "cell_type": "code",
   "execution_count": null,
   "id": "ea4061be",
   "metadata": {},
   "outputs": [],
   "source": []
  },
  {
   "cell_type": "code",
   "execution_count": null,
   "id": "942ef5f2",
   "metadata": {},
   "outputs": [],
   "source": []
  },
  {
   "cell_type": "markdown",
   "id": "26111fee",
   "metadata": {},
   "source": [
    "### search for repeat sentnecte and count to map"
   ]
  },
  {
   "cell_type": "code",
   "execution_count": 19,
   "id": "043b415b",
   "metadata": {},
   "outputs": [
    {
     "data": {
      "text/plain": [
       "['We sincerely thank you for taking the time to rate us',\n",
       " 'سعيدين بخدمتك وشكرا لتقيمك نتطلع لخدمتك مستقبلا',\n",
       " 'سعيدين بخدمتك وشكرا لتقيمك نتطلع لخدمتك مستقبلا',\n",
       " 'مرحبا عذرا منك علي ذلك !  نود الحصول علي تفاصيل اكثر للتحقق يرجي تزويدنا بتفاصيل ما حصل علي الرابط التالي للنظر في الامر GlobalCareCenter@aramexcom',\n",
       " 'يسرنا سماع ذلك ونتمني ان نكون عند حسن ظنك دائما وان نقدم خدمه تليق بكم شكرا جزيلا',\n",
       " 'مرحبا محمد عذرا منك علي ذلك !  نود الحصول علي تفاصيل اكثر للتحقق يرجي تزويدنا بتفاصيل ما حصل علي الرابط التالي للنظر في الامر GlobalCareCenter@aramexcom',\n",
       " 'مرحبا يسعدنا سماع ذلك وهدفنا الاول ارضاؤكم شكرا',\n",
       " 'مرحبا اشرف يسرنا سماع ذلك ونتمني ان نكون عند حسن ظنك دائما وان نقدم خدمه تليق بكم شكرا جزيلا',\n",
       " 'مرحبا عمار يسرنا سماع ذلك ونتمني ان نكون عند حسن ظنك دائما وان نقدم خدمه تليق بكم شكرا جزيلا',\n",
       " 'مرحبا توم يسرنا سماع ذلك ونتمني ان نكون عند حسن ظنك دائما وان نقدم خدمه تليق بكم شكرا جزيلا']"
      ]
     },
     "execution_count": 19,
     "metadata": {},
     "output_type": "execute_result"
    }
   ],
   "source": [
    "# # create a list text\n",
    "text = list(df_new['developer_response'])\n",
    "text [:10]"
   ]
  },
  {
   "cell_type": "code",
   "execution_count": 20,
   "id": "6a9d2e80",
   "metadata": {},
   "outputs": [
    {
     "name": "stdout",
     "output_type": "stream",
     "text": [
      "283835\n"
     ]
    }
   ],
   "source": [
    "#search for frequencies sentnecte and count to map\n",
    "mp = dict()\n",
    "\n",
    "def count(arr, n):    \n",
    "    # Traverse through array elements\n",
    "    # and count frequencies\n",
    "    for i in range(n):\n",
    "        if arr[i] in mp.keys():\n",
    "            mp[arr[i]] += 1\n",
    "        else:\n",
    "            mp[arr[i]] = 1\n",
    "\n",
    "n = len(text) \n",
    "print (n)\n",
    "count(text, n)"
   ]
  },
  {
   "cell_type": "code",
   "execution_count": null,
   "id": "fe3b4899",
   "metadata": {},
   "outputs": [],
   "source": []
  },
  {
   "cell_type": "code",
   "execution_count": 21,
   "id": "b7d3c854",
   "metadata": {},
   "outputs": [],
   "source": [
    "#convert map to dataframe\n",
    "df_search = pd.DataFrame(mp.items(), columns=['developer_response', 'Count'])"
   ]
  },
  {
   "cell_type": "code",
   "execution_count": 22,
   "id": "4e7d4308",
   "metadata": {},
   "outputs": [
    {
     "name": "stdout",
     "output_type": "stream",
     "text": [
      "(52756, 2)\n"
     ]
    },
    {
     "data": {
      "text/html": [
       "<div>\n",
       "<style scoped>\n",
       "    .dataframe tbody tr th:only-of-type {\n",
       "        vertical-align: middle;\n",
       "    }\n",
       "\n",
       "    .dataframe tbody tr th {\n",
       "        vertical-align: top;\n",
       "    }\n",
       "\n",
       "    .dataframe thead th {\n",
       "        text-align: right;\n",
       "    }\n",
       "</style>\n",
       "<table border=\"1\" class=\"dataframe\">\n",
       "  <thead>\n",
       "    <tr style=\"text-align: right;\">\n",
       "      <th></th>\n",
       "      <th>developer_response</th>\n",
       "      <th>Count</th>\n",
       "    </tr>\n",
       "  </thead>\n",
       "  <tbody>\n",
       "    <tr>\n",
       "      <th>0</th>\n",
       "      <td>We sincerely thank you for taking the time to ...</td>\n",
       "      <td>1</td>\n",
       "    </tr>\n",
       "    <tr>\n",
       "      <th>1</th>\n",
       "      <td>سعيدين بخدمتك وشكرا لتقيمك نتطلع لخدمتك مستقبلا</td>\n",
       "      <td>3</td>\n",
       "    </tr>\n",
       "    <tr>\n",
       "      <th>2</th>\n",
       "      <td>مرحبا عذرا منك علي ذلك !  نود الحصول علي تفاصي...</td>\n",
       "      <td>4</td>\n",
       "    </tr>\n",
       "    <tr>\n",
       "      <th>3</th>\n",
       "      <td>يسرنا سماع ذلك ونتمني ان نكون عند حسن ظنك دائم...</td>\n",
       "      <td>2</td>\n",
       "    </tr>\n",
       "    <tr>\n",
       "      <th>4</th>\n",
       "      <td>مرحبا محمد عذرا منك علي ذلك !  نود الحصول علي ...</td>\n",
       "      <td>3</td>\n",
       "    </tr>\n",
       "  </tbody>\n",
       "</table>\n",
       "</div>"
      ],
      "text/plain": [
       "                                  developer_response  Count\n",
       "0  We sincerely thank you for taking the time to ...      1\n",
       "1    سعيدين بخدمتك وشكرا لتقيمك نتطلع لخدمتك مستقبلا      3\n",
       "2  مرحبا عذرا منك علي ذلك !  نود الحصول علي تفاصي...      4\n",
       "3  يسرنا سماع ذلك ونتمني ان نكون عند حسن ظنك دائم...      2\n",
       "4  مرحبا محمد عذرا منك علي ذلك !  نود الحصول علي ...      3"
      ]
     },
     "execution_count": 22,
     "metadata": {},
     "output_type": "execute_result"
    }
   ],
   "source": [
    "print (df_search.shape)\n",
    "df_search.head()"
   ]
  },
  {
   "cell_type": "code",
   "execution_count": 23,
   "id": "41eca43e",
   "metadata": {},
   "outputs": [],
   "source": [
    "#save all data and  frequencies\n",
    "#df_search.to_csv(\"data_repeat_all.csv\", encoding='utf-8-sig', index=False , header=True)"
   ]
  },
  {
   "cell_type": "code",
   "execution_count": null,
   "id": "7bdcedd3",
   "metadata": {},
   "outputs": [],
   "source": []
  },
  {
   "cell_type": "code",
   "execution_count": 24,
   "id": "af21dfa4",
   "metadata": {},
   "outputs": [
    {
     "name": "stdout",
     "output_type": "stream",
     "text": [
      "(9190, 2)\n"
     ]
    },
    {
     "data": {
      "text/html": [
       "<div>\n",
       "<style scoped>\n",
       "    .dataframe tbody tr th:only-of-type {\n",
       "        vertical-align: middle;\n",
       "    }\n",
       "\n",
       "    .dataframe tbody tr th {\n",
       "        vertical-align: top;\n",
       "    }\n",
       "\n",
       "    .dataframe thead th {\n",
       "        text-align: right;\n",
       "    }\n",
       "</style>\n",
       "<table border=\"1\" class=\"dataframe\">\n",
       "  <thead>\n",
       "    <tr style=\"text-align: right;\">\n",
       "      <th></th>\n",
       "      <th>developer_response</th>\n",
       "      <th>Count</th>\n",
       "    </tr>\n",
       "  </thead>\n",
       "  <tbody>\n",
       "    <tr>\n",
       "      <th>1</th>\n",
       "      <td>سعيدين بخدمتك وشكرا لتقيمك نتطلع لخدمتك مستقبلا</td>\n",
       "      <td>3</td>\n",
       "    </tr>\n",
       "    <tr>\n",
       "      <th>2</th>\n",
       "      <td>مرحبا عذرا منك علي ذلك !  نود الحصول علي تفاصي...</td>\n",
       "      <td>4</td>\n",
       "    </tr>\n",
       "    <tr>\n",
       "      <th>3</th>\n",
       "      <td>يسرنا سماع ذلك ونتمني ان نكون عند حسن ظنك دائم...</td>\n",
       "      <td>2</td>\n",
       "    </tr>\n",
       "    <tr>\n",
       "      <th>4</th>\n",
       "      <td>مرحبا محمد عذرا منك علي ذلك !  نود الحصول علي ...</td>\n",
       "      <td>3</td>\n",
       "    </tr>\n",
       "    <tr>\n",
       "      <th>9</th>\n",
       "      <td>مرحبا سعدنا بخدمتك !  نقدر لك وقتك لمشاركه تجر...</td>\n",
       "      <td>229</td>\n",
       "    </tr>\n",
       "    <tr>\n",
       "      <th>10</th>\n",
       "      <td>شكرا !  يسعدنا سماع ذلك</td>\n",
       "      <td>100</td>\n",
       "    </tr>\n",
       "    <tr>\n",
       "      <th>11</th>\n",
       "      <td>مرحبا امل شكرا !  يسعدنا سماع ذلك</td>\n",
       "      <td>2</td>\n",
       "    </tr>\n",
       "    <tr>\n",
       "      <th>12</th>\n",
       "      <td>يسعدنا سماع ذلك ودائما سعداء لخدمتك شكرا</td>\n",
       "      <td>3</td>\n",
       "    </tr>\n",
       "    <tr>\n",
       "      <th>13</th>\n",
       "      <td>We do appreciate your effort in taking out tim...</td>\n",
       "      <td>19</td>\n",
       "    </tr>\n",
       "    <tr>\n",
       "      <th>20</th>\n",
       "      <td>مرحبا فاديسعدنا بخدمتك !  نقدر لك وقتك لمشاركه...</td>\n",
       "      <td>2</td>\n",
       "    </tr>\n",
       "  </tbody>\n",
       "</table>\n",
       "</div>"
      ],
      "text/plain": [
       "                                   developer_response  Count\n",
       "1     سعيدين بخدمتك وشكرا لتقيمك نتطلع لخدمتك مستقبلا      3\n",
       "2   مرحبا عذرا منك علي ذلك !  نود الحصول علي تفاصي...      4\n",
       "3   يسرنا سماع ذلك ونتمني ان نكون عند حسن ظنك دائم...      2\n",
       "4   مرحبا محمد عذرا منك علي ذلك !  نود الحصول علي ...      3\n",
       "9   مرحبا سعدنا بخدمتك !  نقدر لك وقتك لمشاركه تجر...    229\n",
       "10                            شكرا !  يسعدنا سماع ذلك    100\n",
       "11                  مرحبا امل شكرا !  يسعدنا سماع ذلك      2\n",
       "12           يسعدنا سماع ذلك ودائما سعداء لخدمتك شكرا      3\n",
       "13  We do appreciate your effort in taking out tim...     19\n",
       "20  مرحبا فاديسعدنا بخدمتك !  نقدر لك وقتك لمشاركه...      2"
      ]
     },
     "execution_count": 24,
     "metadata": {},
     "output_type": "execute_result"
    }
   ],
   "source": [
    "#collect data that have frequencies bigger (1)\n",
    "df_search_repeat = df_search[df_search.Count != 1]\n",
    "\n",
    "print (df_search_repeat.shape)\n",
    "df_search_repeat.head(10)"
   ]
  },
  {
   "cell_type": "code",
   "execution_count": 25,
   "id": "f541e664",
   "metadata": {},
   "outputs": [],
   "source": [
    "#save data to csv file after cleaning data\n",
    "df_search_repeat.to_csv(\"df_search_repeat.csv\", encoding='utf-8-sig', index=False , header=True)"
   ]
  },
  {
   "cell_type": "code",
   "execution_count": null,
   "id": "eab5185f",
   "metadata": {},
   "outputs": [],
   "source": []
  },
  {
   "cell_type": "code",
   "execution_count": 26,
   "id": "72aa904a",
   "metadata": {},
   "outputs": [
    {
     "name": "stdout",
     "output_type": "stream",
     "text": [
      "(43566, 2)\n"
     ]
    },
    {
     "data": {
      "text/html": [
       "<div>\n",
       "<style scoped>\n",
       "    .dataframe tbody tr th:only-of-type {\n",
       "        vertical-align: middle;\n",
       "    }\n",
       "\n",
       "    .dataframe tbody tr th {\n",
       "        vertical-align: top;\n",
       "    }\n",
       "\n",
       "    .dataframe thead th {\n",
       "        text-align: right;\n",
       "    }\n",
       "</style>\n",
       "<table border=\"1\" class=\"dataframe\">\n",
       "  <thead>\n",
       "    <tr style=\"text-align: right;\">\n",
       "      <th></th>\n",
       "      <th>developer_response</th>\n",
       "      <th>Count</th>\n",
       "    </tr>\n",
       "  </thead>\n",
       "  <tbody>\n",
       "    <tr>\n",
       "      <th>0</th>\n",
       "      <td>We sincerely thank you for taking the time to ...</td>\n",
       "      <td>1</td>\n",
       "    </tr>\n",
       "    <tr>\n",
       "      <th>5</th>\n",
       "      <td>مرحبا يسعدنا سماع ذلك وهدفنا الاول ارضاؤكم شكرا</td>\n",
       "      <td>1</td>\n",
       "    </tr>\n",
       "    <tr>\n",
       "      <th>6</th>\n",
       "      <td>مرحبا اشرف يسرنا سماع ذلك ونتمني ان نكون عند ح...</td>\n",
       "      <td>1</td>\n",
       "    </tr>\n",
       "    <tr>\n",
       "      <th>7</th>\n",
       "      <td>مرحبا عمار يسرنا سماع ذلك ونتمني ان نكون عند ح...</td>\n",
       "      <td>1</td>\n",
       "    </tr>\n",
       "    <tr>\n",
       "      <th>8</th>\n",
       "      <td>مرحبا توم يسرنا سماع ذلك ونتمني ان نكون عند حس...</td>\n",
       "      <td>1</td>\n",
       "    </tr>\n",
       "    <tr>\n",
       "      <th>14</th>\n",
       "      <td>مرحبا عبدالعزيز يسعدنا سماع ذلك وهدفنا الاول ا...</td>\n",
       "      <td>1</td>\n",
       "    </tr>\n",
       "    <tr>\n",
       "      <th>15</th>\n",
       "      <td>مرحبا مدثر يسعدنا سماع ذلك وهدفنا الاول ارضاؤك...</td>\n",
       "      <td>1</td>\n",
       "    </tr>\n",
       "    <tr>\n",
       "      <th>16</th>\n",
       "      <td>مرحبا ميسر يسعدنا سماع ذلك وهدفنا الاول ارضاؤك...</td>\n",
       "      <td>1</td>\n",
       "    </tr>\n",
       "    <tr>\n",
       "      <th>17</th>\n",
       "      <td>مرحبا محمد يسعدنا سماع ذلك وهدفنا الاول ارضاؤك...</td>\n",
       "      <td>1</td>\n",
       "    </tr>\n",
       "    <tr>\n",
       "      <th>18</th>\n",
       "      <td>مرحبا قتيبه سعدنا بخدمتك !  نقدر لك وقتك لمشار...</td>\n",
       "      <td>1</td>\n",
       "    </tr>\n",
       "  </tbody>\n",
       "</table>\n",
       "</div>"
      ],
      "text/plain": [
       "                                   developer_response  Count\n",
       "0   We sincerely thank you for taking the time to ...      1\n",
       "5     مرحبا يسعدنا سماع ذلك وهدفنا الاول ارضاؤكم شكرا      1\n",
       "6   مرحبا اشرف يسرنا سماع ذلك ونتمني ان نكون عند ح...      1\n",
       "7   مرحبا عمار يسرنا سماع ذلك ونتمني ان نكون عند ح...      1\n",
       "8   مرحبا توم يسرنا سماع ذلك ونتمني ان نكون عند حس...      1\n",
       "14  مرحبا عبدالعزيز يسعدنا سماع ذلك وهدفنا الاول ا...      1\n",
       "15  مرحبا مدثر يسعدنا سماع ذلك وهدفنا الاول ارضاؤك...      1\n",
       "16  مرحبا ميسر يسعدنا سماع ذلك وهدفنا الاول ارضاؤك...      1\n",
       "17  مرحبا محمد يسعدنا سماع ذلك وهدفنا الاول ارضاؤك...      1\n",
       "18  مرحبا قتيبه سعدنا بخدمتك !  نقدر لك وقتك لمشار...      1"
      ]
     },
     "execution_count": 26,
     "metadata": {},
     "output_type": "execute_result"
    }
   ],
   "source": [
    "#collect data that have frequencies equal (1)\n",
    "df_search_not_repeat = df_search[df_search.Count == 1]\n",
    "\n",
    "print (df_search_not_repeat.shape)\n",
    "df_search_not_repeat.head(10)"
   ]
  },
  {
   "cell_type": "code",
   "execution_count": 27,
   "id": "ca0006e0",
   "metadata": {
    "scrolled": false
   },
   "outputs": [],
   "source": [
    "df_search_not_repeat.to_csv(\"df_search_not_repeat.csv\", encoding='utf-8-sig', index=False , header=True)"
   ]
  },
  {
   "cell_type": "code",
   "execution_count": 28,
   "id": "46c44927",
   "metadata": {},
   "outputs": [
    {
     "data": {
      "text/plain": [
       "(283835, 8)"
      ]
     },
     "execution_count": 28,
     "metadata": {},
     "output_type": "execute_result"
    }
   ],
   "source": [
    "df_new.shape"
   ]
  }
 ],
 "metadata": {
  "kernelspec": {
   "display_name": "Python 3 (ipykernel)",
   "language": "python",
   "name": "python3"
  },
  "language_info": {
   "codemirror_mode": {
    "name": "ipython",
    "version": 3
   },
   "file_extension": ".py",
   "mimetype": "text/x-python",
   "name": "python",
   "nbconvert_exporter": "python",
   "pygments_lexer": "ipython3",
   "version": "3.9.13"
  }
 },
 "nbformat": 4,
 "nbformat_minor": 5
}
