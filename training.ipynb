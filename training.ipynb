{
 "cells": [
  {
   "cell_type": "code",
   "execution_count": 1,
   "id": "52bf55d1",
   "metadata": {},
   "outputs": [],
   "source": [
    "# reading data\n",
    "import numpy as np\n",
    "import pandas as pd\n",
    "data = pd.read_csv('dataset.csv')"
   ]
  },
  {
   "cell_type": "code",
   "execution_count": 2,
   "id": "70c4a42a",
   "metadata": {},
   "outputs": [
    {
     "data": {
      "text/html": [
       "<div>\n",
       "<style scoped>\n",
       "    .dataframe tbody tr th:only-of-type {\n",
       "        vertical-align: middle;\n",
       "    }\n",
       "\n",
       "    .dataframe tbody tr th {\n",
       "        vertical-align: top;\n",
       "    }\n",
       "\n",
       "    .dataframe thead th {\n",
       "        text-align: right;\n",
       "    }\n",
       "</style>\n",
       "<table border=\"1\" class=\"dataframe\">\n",
       "  <thead>\n",
       "    <tr style=\"text-align: right;\">\n",
       "      <th></th>\n",
       "      <th>source</th>\n",
       "      <th>review_id</th>\n",
       "      <th>user_name</th>\n",
       "      <th>review_description</th>\n",
       "      <th>rating</th>\n",
       "      <th>review_date</th>\n",
       "      <th>developer_response</th>\n",
       "      <th>developer_response_date</th>\n",
       "      <th>label</th>\n",
       "    </tr>\n",
       "  </thead>\n",
       "  <tbody>\n",
       "    <tr>\n",
       "      <th>0</th>\n",
       "      <td>Google Play</td>\n",
       "      <td>d855686a-7ebe-4cef-911f-3d124bc2d61a</td>\n",
       "      <td>‫عمرو محمد (داود)‬‎</td>\n",
       "      <td>very good</td>\n",
       "      <td>5</td>\n",
       "      <td>2023-01-04 15:47:27</td>\n",
       "      <td>We sincerely thank you for taking the time to ...</td>\n",
       "      <td>2023-01-04 21:06:38</td>\n",
       "      <td>Custom</td>\n",
       "    </tr>\n",
       "    <tr>\n",
       "      <th>1</th>\n",
       "      <td>Google Play</td>\n",
       "      <td>0491e3b8-c262-4ef3-ab74-4a962a7a28ee</td>\n",
       "      <td>Moath Tobasi</td>\n",
       "      <td>ارمكس برنامج ممتاز لا يوجد اي تعليق المواعيد ف...</td>\n",
       "      <td>5</td>\n",
       "      <td>2023-01-04 15:46:03</td>\n",
       "      <td>سعيدين بخدمتك وشكرا لتقيمك نتطلع لخدمتك مستقبلا</td>\n",
       "      <td>2023-01-04 15:12:31</td>\n",
       "      <td>Generic</td>\n",
       "    </tr>\n",
       "    <tr>\n",
       "      <th>2</th>\n",
       "      <td>Google Play</td>\n",
       "      <td>0b537bf6-2dc3-4d4b-b239-6e6b916eaadc</td>\n",
       "      <td>Mohamed Mohamedy</td>\n",
       "      <td>فوق الممتاز</td>\n",
       "      <td>5</td>\n",
       "      <td>2023-01-04 14:07:14</td>\n",
       "      <td>سعيدين بخدمتك وشكرا لتقيمك نتطلع لخدمتك مستقبلا</td>\n",
       "      <td>2023-01-04 19:51:33</td>\n",
       "      <td>Generic</td>\n",
       "    </tr>\n",
       "    <tr>\n",
       "      <th>3</th>\n",
       "      <td>Google Play</td>\n",
       "      <td>5e50884e-e69a-4d05-8ae3-0b0aea7f278c</td>\n",
       "      <td>temoo tamam</td>\n",
       "      <td>خدمة سيئة جدا وعدم الالتزام بمواعيد التسليم وخ...</td>\n",
       "      <td>1</td>\n",
       "      <td>2023-01-04 13:52:23</td>\n",
       "      <td>مرحبا عذرا منك علي ذلك !  نود الحصول علي تفاصي...</td>\n",
       "      <td>2023-01-04 19:30:51</td>\n",
       "      <td>Generic</td>\n",
       "    </tr>\n",
       "    <tr>\n",
       "      <th>4</th>\n",
       "      <td>Google Play</td>\n",
       "      <td>c29dbb95-8dfa-4918-94ca-5e124d405930</td>\n",
       "      <td>tufool mab</td>\n",
       "      <td>شكرا على حسن تعاونكم معنا</td>\n",
       "      <td>5</td>\n",
       "      <td>2023-01-04 06:42:33</td>\n",
       "      <td>يسرنا سماع ذلك ونتمني ان نكون عند حسن ظنك دائم...</td>\n",
       "      <td>2023-01-04 15:50:52</td>\n",
       "      <td>Generic</td>\n",
       "    </tr>\n",
       "  </tbody>\n",
       "</table>\n",
       "</div>"
      ],
      "text/plain": [
       "        source                             review_id            user_name  \\\n",
       "0  Google Play  d855686a-7ebe-4cef-911f-3d124bc2d61a  ‫عمرو محمد (داود)‬‎   \n",
       "1  Google Play  0491e3b8-c262-4ef3-ab74-4a962a7a28ee         Moath Tobasi   \n",
       "2  Google Play  0b537bf6-2dc3-4d4b-b239-6e6b916eaadc     Mohamed Mohamedy   \n",
       "3  Google Play  5e50884e-e69a-4d05-8ae3-0b0aea7f278c          temoo tamam   \n",
       "4  Google Play  c29dbb95-8dfa-4918-94ca-5e124d405930           tufool mab   \n",
       "\n",
       "                                  review_description  rating  \\\n",
       "0                                          very good       5   \n",
       "1  ارمكس برنامج ممتاز لا يوجد اي تعليق المواعيد ف...       5   \n",
       "2                                        فوق الممتاز       5   \n",
       "3  خدمة سيئة جدا وعدم الالتزام بمواعيد التسليم وخ...       1   \n",
       "4                          شكرا على حسن تعاونكم معنا       5   \n",
       "\n",
       "           review_date                                 developer_response  \\\n",
       "0  2023-01-04 15:47:27  We sincerely thank you for taking the time to ...   \n",
       "1  2023-01-04 15:46:03    سعيدين بخدمتك وشكرا لتقيمك نتطلع لخدمتك مستقبلا   \n",
       "2  2023-01-04 14:07:14    سعيدين بخدمتك وشكرا لتقيمك نتطلع لخدمتك مستقبلا   \n",
       "3  2023-01-04 13:52:23  مرحبا عذرا منك علي ذلك !  نود الحصول علي تفاصي...   \n",
       "4  2023-01-04 06:42:33  يسرنا سماع ذلك ونتمني ان نكون عند حسن ظنك دائم...   \n",
       "\n",
       "  developer_response_date    label  \n",
       "0     2023-01-04 21:06:38   Custom  \n",
       "1     2023-01-04 15:12:31  Generic  \n",
       "2     2023-01-04 19:51:33  Generic  \n",
       "3     2023-01-04 19:30:51  Generic  \n",
       "4     2023-01-04 15:50:52  Generic  "
      ]
     },
     "execution_count": 2,
     "metadata": {},
     "output_type": "execute_result"
    }
   ],
   "source": [
    "#data = df.copy()\n",
    "#data = data [:15000]\n",
    "data.head()"
   ]
  },
  {
   "cell_type": "code",
   "execution_count": 3,
   "id": "d26748c8",
   "metadata": {},
   "outputs": [
    {
     "data": {
      "text/plain": [
       "source                     0\n",
       "review_id                  0\n",
       "user_name                  0\n",
       "review_description         0\n",
       "rating                     0\n",
       "review_date                0\n",
       "developer_response         0\n",
       "developer_response_date    0\n",
       "label                      0\n",
       "dtype: int64"
      ]
     },
     "execution_count": 3,
     "metadata": {},
     "output_type": "execute_result"
    }
   ],
   "source": [
    "# check missing values\n",
    "data.isna().sum()"
   ]
  },
  {
   "cell_type": "code",
   "execution_count": 4,
   "id": "a1ffe7f4",
   "metadata": {},
   "outputs": [
    {
     "data": {
      "text/plain": [
       "(283835, 9)"
      ]
     },
     "execution_count": 4,
     "metadata": {},
     "output_type": "execute_result"
    }
   ],
   "source": [
    "# check data shape\n",
    "data.shape"
   ]
  },
  {
   "cell_type": "markdown",
   "id": "17c62bab",
   "metadata": {},
   "source": [
    "# Text Preprocessing"
   ]
  },
  {
   "cell_type": "markdown",
   "id": "93f1d32e",
   "metadata": {},
   "source": [
    "This is where all text cleaning takes place. It’s a loop that iterates through all 5,572 documents and does the following:\n",
    "\n",
    "    Remove all special characters\n",
    "    Lowercase all the words\n",
    "    Tokenize\n",
    "    Remove stopwords\n",
    "    Lemmatize\n"
   ]
  },
  {
   "cell_type": "code",
   "execution_count": 5,
   "id": "2b087d8b",
   "metadata": {},
   "outputs": [],
   "source": [
    "# text preprocessing\n",
    "# download nltk\n",
    "import nltk\n",
    "#nltk.download('all')"
   ]
  },
  {
   "cell_type": "code",
   "execution_count": 6,
   "id": "4a9b13cd",
   "metadata": {},
   "outputs": [],
   "source": [
    "# preprocessing loop\n",
    "import re\n",
    "from nltk.corpus import stopwords\n",
    "from nltk.stem import WordNetLemmatizer\n",
    "lemmatizer = WordNetLemmatizer()"
   ]
  },
  {
   "cell_type": "code",
   "execution_count": 7,
   "id": "e8b01b89",
   "metadata": {},
   "outputs": [],
   "source": [
    "# # create a list text\n",
    "# text = list(data['developer_response'])"
   ]
  },
  {
   "cell_type": "code",
   "execution_count": 8,
   "id": "6bfb9b18",
   "metadata": {},
   "outputs": [],
   "source": [
    "# import gensim\n",
    "# # Clean/Normalize Arabic Text\n",
    "# def clean_str(text):\n",
    "#     search = [\"أ\",\"إ\",\"آ\",\"ة\",\"_\",\"-\",\"/\",\".\",\"،\",\" و \",\" يا \",'\"',\"ـ\",\"'\",\"ى\",\"\\\\\",'\\n', '\\t','&quot;','?','؟','!']\n",
    "#     replace = [\"ا\",\"ا\",\"ا\",\"ه\",\" \",\" \",\"\",\"\",\"\",\" و\",\" يا\",\"\",\"\",\"\",\"ي\",\"\",' ', ' ',' ',' ? ',' ؟ ',' ! ']\n",
    "    \n",
    "#     #remove tashkeel\n",
    "#     p_tashkeel = re.compile(r'[\\u0617-\\u061A\\u064B-\\u0652]')\n",
    "#     text = re.sub(p_tashkeel,\"\", text)\n",
    "    \n",
    "#     #remove longation\n",
    "#     p_longation = re.compile(r'(.)\\1+')\n",
    "#     subst = r\"\\1\\1\"\n",
    "#     text = re.sub(p_longation, subst, text)\n",
    "    \n",
    "#     text = text.replace('وو', 'و')\n",
    "#     text = text.replace('يي', 'ي')\n",
    "#     text = text.replace('اا', 'ا')\n",
    "    \n",
    "#     for i in range(0, len(search)):\n",
    "#         text = text.replace(search[i], replace[i])\n",
    "    \n",
    "#     #trim    \n",
    "#     text = text.strip()\n",
    "\n",
    "#     return text"
   ]
  },
  {
   "cell_type": "code",
   "execution_count": 9,
   "id": "94f558e8",
   "metadata": {
    "scrolled": false
   },
   "outputs": [],
   "source": [
    "# corpus = []\n",
    "# #i = 0\n",
    "# for i in range(len(text)):    \n",
    "#     r = text[i]    \n",
    "#     #r = re.sub('[^a-zA-Z]', ' ', text[i])    \n",
    "#     #r = r.lower()        \n",
    "#     r = clean_str(r)    \n",
    "#     r = r.split()           \n",
    "#     r = [word for word in r if word not in stopwords.words('arabic')]        \n",
    "#     r = [lemmatizer.lemmatize(word) for word in r]    \n",
    "#     r = ' '.join(r)    \n",
    "#     corpus.append(r)   \n",
    "    \n",
    "# #assign corpus to data['developer_response']\n",
    "# data['developer_response'] = corpus\n",
    "# #data.head()"
   ]
  },
  {
   "cell_type": "markdown",
   "id": "b7c920a7",
   "metadata": {},
   "source": [
    "### Train-test-split"
   ]
  },
  {
   "cell_type": "markdown",
   "id": "228f64f8",
   "metadata": {},
   "source": [
    "Let’s split the dataset into train and test before feature extraction."
   ]
  },
  {
   "cell_type": "code",
   "execution_count": 10,
   "id": "ae39fb7c",
   "metadata": {},
   "outputs": [],
   "source": [
    "# Create Feature and Label sets\n",
    "X = data['developer_response']\n",
    "y = data['label']"
   ]
  },
  {
   "cell_type": "code",
   "execution_count": 11,
   "id": "5ab5f68f",
   "metadata": {},
   "outputs": [
    {
     "name": "stdout",
     "output_type": "stream",
     "text": [
      "Training Data : (190169,)\n",
      "Testing Data :  (93666,)\n"
     ]
    }
   ],
   "source": [
    "# train test split (66% train - 33% test)\n",
    "from sklearn.model_selection import train_test_split\n",
    "X_train, X_test, y_train, y_test = train_test_split(X, y, test_size=0.33, random_state=123)\n",
    "print('Training Data :', X_train.shape)\n",
    "print('Testing Data : ', X_test.shape)"
   ]
  },
  {
   "cell_type": "markdown",
   "id": "fc7cf8ab",
   "metadata": {},
   "source": [
    "### Feature Extraction"
   ]
  },
  {
   "cell_type": "code",
   "execution_count": 12,
   "id": "02c986fa",
   "metadata": {
    "id": "ffByv-j1KpOr"
   },
   "outputs": [],
   "source": [
    "from sklearn.feature_extraction.text import CountVectorizer, TfidfTransformer,TfidfVectorizer"
   ]
  },
  {
   "cell_type": "code",
   "execution_count": 13,
   "id": "20aa95e8",
   "metadata": {
    "id": "LqenhARUKrub"
   },
   "outputs": [],
   "source": [
    "vectorizer = CountVectorizer()\n",
    "vectorizer.fit(X_train)\n",
    "train_mat = vectorizer.transform(X_train)"
   ]
  },
  {
   "cell_type": "code",
   "execution_count": 14,
   "id": "39469b41",
   "metadata": {
    "id": "DNeA7LUGKuWh"
   },
   "outputs": [
    {
     "data": {
      "text/plain": [
       "(190169, 21376)"
      ]
     },
     "execution_count": 14,
     "metadata": {},
     "output_type": "execute_result"
    }
   ],
   "source": [
    "tfidf = TfidfTransformer()\n",
    "tfidf.fit(train_mat)\n",
    "train_tfmat = tfidf.transform(train_mat)\n",
    "train_tfmat.shape"
   ]
  },
  {
   "cell_type": "code",
   "execution_count": 15,
   "id": "5afd0afd",
   "metadata": {
    "id": "A23e4Dh-K_mc"
   },
   "outputs": [
    {
     "data": {
      "text/plain": [
       "(93666, 21376)"
      ]
     },
     "execution_count": 15,
     "metadata": {},
     "output_type": "execute_result"
    }
   ],
   "source": [
    "test_mat = vectorizer.transform(X_test)\n",
    "test_tfmat = tfidf.transform(test_mat)\n",
    "test_tfmat.shape"
   ]
  },
  {
   "cell_type": "code",
   "execution_count": null,
   "id": "3b096c24",
   "metadata": {},
   "outputs": [],
   "source": []
  },
  {
   "cell_type": "code",
   "execution_count": 16,
   "id": "0b0e1d3c",
   "metadata": {
    "id": "tJHEGFhSLOUo"
   },
   "outputs": [],
   "source": [
    "from sklearn.naive_bayes import BernoulliNB, MultinomialNB\n",
    "import numpy as np\n",
    "from sklearn.metrics import classification_report\n"
   ]
  },
  {
   "cell_type": "markdown",
   "id": "f1ea7900",
   "metadata": {},
   "source": [
    "# BernoulliNB"
   ]
  },
  {
   "cell_type": "code",
   "execution_count": 17,
   "id": "5fbf0f72",
   "metadata": {
    "id": "PWAgGEgnMlKQ"
   },
   "outputs": [],
   "source": [
    "BerNV = BernoulliNB()\n",
    "BerNV.fit(train_tfmat,y_train) # training \n",
    "y_pred_BerNV=BerNV.predict(test_tfmat) #testing "
   ]
  },
  {
   "cell_type": "code",
   "execution_count": 18,
   "id": "97f1894e",
   "metadata": {},
   "outputs": [
    {
     "data": {
      "text/html": [
       "<div>\n",
       "<style scoped>\n",
       "    .dataframe tbody tr th:only-of-type {\n",
       "        vertical-align: middle;\n",
       "    }\n",
       "\n",
       "    .dataframe tbody tr th {\n",
       "        vertical-align: top;\n",
       "    }\n",
       "\n",
       "    .dataframe thead th {\n",
       "        text-align: right;\n",
       "    }\n",
       "</style>\n",
       "<table border=\"1\" class=\"dataframe\">\n",
       "  <thead>\n",
       "    <tr style=\"text-align: right;\">\n",
       "      <th></th>\n",
       "      <th>Custom</th>\n",
       "      <th>Generic</th>\n",
       "    </tr>\n",
       "  </thead>\n",
       "  <tbody>\n",
       "    <tr>\n",
       "      <th>Custom</th>\n",
       "      <td>5286</td>\n",
       "      <td>2082</td>\n",
       "    </tr>\n",
       "    <tr>\n",
       "      <th>Generic</th>\n",
       "      <td>9487</td>\n",
       "      <td>76811</td>\n",
       "    </tr>\n",
       "  </tbody>\n",
       "</table>\n",
       "</div>"
      ],
      "text/plain": [
       "         Custom  Generic\n",
       "Custom     5286     2082\n",
       "Generic    9487    76811"
      ]
     },
     "execution_count": 18,
     "metadata": {},
     "output_type": "execute_result"
    }
   ],
   "source": [
    "# confusion matrix\n",
    "from sklearn import metrics\n",
    "\n",
    "df_metrics_BerNV = pd.DataFrame(metrics.confusion_matrix(y_test,y_pred_BerNV),\\\n",
    "                          index=['Custom','Generic'], columns=['Custom','Generic'])\n",
    "df_metrics_BerNV"
   ]
  },
  {
   "cell_type": "code",
   "execution_count": 19,
   "id": "71dffca9",
   "metadata": {},
   "outputs": [
    {
     "data": {
      "text/plain": [
       "<AxesSubplot:>"
      ]
     },
     "execution_count": 19,
     "metadata": {},
     "output_type": "execute_result"
    },
    {
     "data": {
      "image/png": "[encoded data removed]",
      "text/plain": [
       "<Figure size 900x300 with 2 Axes>"
      ]
     },
     "metadata": {},
     "output_type": "display_data"
    }
   ],
   "source": [
    "import seaborn as sn\n",
    "import matplotlib.pyplot as plt\n",
    "plt.figure(figsize = (9,3))\n",
    "sn.heatmap(df_metrics_BerNV, annot=True)"
   ]
  },
  {
   "cell_type": "markdown",
   "id": "da80a338",
   "metadata": {},
   "source": [
    "# MultinomialNB"
   ]
  },
  {
   "cell_type": "markdown",
   "id": "66a861cd",
   "metadata": {},
   "source": [
    "### Training Naive Bayes (NB) classifier on training data."
   ]
  },
  {
   "cell_type": "code",
   "execution_count": 20,
   "id": "52c840ca",
   "metadata": {
    "id": "Revb1nLeNVuv"
   },
   "outputs": [],
   "source": [
    "MultiNB = MultinomialNB()\n",
    "MultiNB.fit(train_tfmat,y_train) # training \n",
    "y_pred_MultiNB=MultiNB.predict(test_tfmat) #testing "
   ]
  },
  {
   "cell_type": "code",
   "execution_count": 21,
   "id": "c783b31c",
   "metadata": {},
   "outputs": [
    {
     "name": "stdout",
     "output_type": "stream",
     "text": [
      "              precision    recall  f1-score   support\n",
      "\n",
      "      Custom       0.55      0.55      0.55      7368\n",
      "     Generic       0.96      0.96      0.96     86298\n",
      "\n",
      "    accuracy                           0.93     93666\n",
      "   macro avg       0.76      0.76      0.76     93666\n",
      "weighted avg       0.93      0.93      0.93     93666\n",
      "\n"
     ]
    }
   ],
   "source": [
    "print(classification_report(y_test, y_pred_MultiNB ,  labels=np.unique(y_pred_MultiNB)))"
   ]
  },
  {
   "cell_type": "code",
   "execution_count": 22,
   "id": "98446d50",
   "metadata": {},
   "outputs": [
    {
     "data": {
      "text/html": [
       "<div>\n",
       "<style scoped>\n",
       "    .dataframe tbody tr th:only-of-type {\n",
       "        vertical-align: middle;\n",
       "    }\n",
       "\n",
       "    .dataframe tbody tr th {\n",
       "        vertical-align: top;\n",
       "    }\n",
       "\n",
       "    .dataframe thead th {\n",
       "        text-align: right;\n",
       "    }\n",
       "</style>\n",
       "<table border=\"1\" class=\"dataframe\">\n",
       "  <thead>\n",
       "    <tr style=\"text-align: right;\">\n",
       "      <th></th>\n",
       "      <th>Custom</th>\n",
       "      <th>Generic</th>\n",
       "    </tr>\n",
       "  </thead>\n",
       "  <tbody>\n",
       "    <tr>\n",
       "      <th>Custom</th>\n",
       "      <td>4050</td>\n",
       "      <td>3318</td>\n",
       "    </tr>\n",
       "    <tr>\n",
       "      <th>Generic</th>\n",
       "      <td>3289</td>\n",
       "      <td>83009</td>\n",
       "    </tr>\n",
       "  </tbody>\n",
       "</table>\n",
       "</div>"
      ],
      "text/plain": [
       "         Custom  Generic\n",
       "Custom     4050     3318\n",
       "Generic    3289    83009"
      ]
     },
     "execution_count": 22,
     "metadata": {},
     "output_type": "execute_result"
    }
   ],
   "source": [
    "df_metrics_MultiNB = pd.DataFrame(metrics.confusion_matrix(y_test,y_pred_MultiNB),\\\n",
    "                          index=['Custom','Generic'], columns=['Custom','Generic'])\n",
    "df_metrics_MultiNB"
   ]
  },
  {
   "cell_type": "code",
   "execution_count": 23,
   "id": "28799b05",
   "metadata": {},
   "outputs": [
    {
     "data": {
      "text/plain": [
       "<AxesSubplot:>"
      ]
     },
     "execution_count": 23,
     "metadata": {},
     "output_type": "execute_result"
    },
    {
     "data": {
      "image/png": "[encoded data removed]",
      "text/plain": [
       "<Figure size 900x300 with 2 Axes>"
      ]
     },
     "metadata": {},
     "output_type": "display_data"
    }
   ],
   "source": [
    "plt.figure(figsize = (9,3))\n",
    "sn.heatmap(df_metrics_MultiNB, annot=True)"
   ]
  },
  {
   "cell_type": "markdown",
   "id": "4fc6f2bf",
   "metadata": {},
   "source": [
    "# LinearSVC"
   ]
  },
  {
   "cell_type": "code",
   "execution_count": 24,
   "id": "dd4aaf51",
   "metadata": {
    "id": "9WEYABMdLUEr"
   },
   "outputs": [],
   "source": [
    "from sklearn.svm import LinearSVC\n",
    "lsvm=LinearSVC()\n",
    "lsvm.fit(train_tfmat,y_train) #training\n",
    "y_pred_lsvm=lsvm.predict(test_tfmat) #testing "
   ]
  },
  {
   "cell_type": "code",
   "execution_count": 25,
   "id": "31259141",
   "metadata": {},
   "outputs": [
    {
     "name": "stdout",
     "output_type": "stream",
     "text": [
      "              precision    recall  f1-score   support\n",
      "\n",
      "      Custom       0.86      0.65      0.74      7368\n",
      "     Generic       0.97      0.99      0.98     86298\n",
      "\n",
      "    accuracy                           0.96     93666\n",
      "   macro avg       0.92      0.82      0.86     93666\n",
      "weighted avg       0.96      0.96      0.96     93666\n",
      "\n"
     ]
    }
   ],
   "source": [
    "print(classification_report(y_test, y_pred_lsvm ,  labels=np.unique(y_pred_lsvm)))"
   ]
  },
  {
   "cell_type": "code",
   "execution_count": 26,
   "id": "e561bc22",
   "metadata": {},
   "outputs": [
    {
     "data": {
      "text/html": [
       "<div>\n",
       "<style scoped>\n",
       "    .dataframe tbody tr th:only-of-type {\n",
       "        vertical-align: middle;\n",
       "    }\n",
       "\n",
       "    .dataframe tbody tr th {\n",
       "        vertical-align: top;\n",
       "    }\n",
       "\n",
       "    .dataframe thead th {\n",
       "        text-align: right;\n",
       "    }\n",
       "</style>\n",
       "<table border=\"1\" class=\"dataframe\">\n",
       "  <thead>\n",
       "    <tr style=\"text-align: right;\">\n",
       "      <th></th>\n",
       "      <th>Custom</th>\n",
       "      <th>Generic</th>\n",
       "    </tr>\n",
       "  </thead>\n",
       "  <tbody>\n",
       "    <tr>\n",
       "      <th>Custom</th>\n",
       "      <td>4817</td>\n",
       "      <td>2551</td>\n",
       "    </tr>\n",
       "    <tr>\n",
       "      <th>Generic</th>\n",
       "      <td>767</td>\n",
       "      <td>85531</td>\n",
       "    </tr>\n",
       "  </tbody>\n",
       "</table>\n",
       "</div>"
      ],
      "text/plain": [
       "         Custom  Generic\n",
       "Custom     4817     2551\n",
       "Generic     767    85531"
      ]
     },
     "execution_count": 26,
     "metadata": {},
     "output_type": "execute_result"
    }
   ],
   "source": [
    "df_metrics_lsvm = pd.DataFrame(metrics.confusion_matrix(y_test,y_pred_lsvm),\\\n",
    "                          index=['Custom','Generic'], columns=['Custom','Generic'])\n",
    "df_metrics_lsvm"
   ]
  },
  {
   "cell_type": "code",
   "execution_count": 27,
   "id": "633bf7c0",
   "metadata": {},
   "outputs": [
    {
     "data": {
      "text/plain": [
       "<AxesSubplot:>"
      ]
     },
     "execution_count": 27,
     "metadata": {},
     "output_type": "execute_result"
    },
    {
     "data": {
      "image/png": "[encoded data removed]",
      "text/plain": [
       "<Figure size 900x300 with 2 Axes>"
      ]
     },
     "metadata": {},
     "output_type": "display_data"
    }
   ],
   "source": [
    "plt.figure(figsize = (9,3))\n",
    "sn.heatmap(df_metrics_lsvm, annot=True)"
   ]
  },
  {
   "cell_type": "markdown",
   "id": "f1d5e758",
   "metadata": {},
   "source": [
    "# LogisticRegression"
   ]
  },
  {
   "cell_type": "code",
   "execution_count": 28,
   "id": "f0698a55",
   "metadata": {
    "colab": {
     "base_uri": "https://localhost:8080/"
    },
    "id": "xmdfH1b0PGKz",
    "outputId": "475a6ec3-ecbd-484d-9329-4766e61b8a0e"
   },
   "outputs": [],
   "source": [
    "from sklearn.linear_model import LogisticRegression\n",
    "lr = LogisticRegression(solver='lbfgs', max_iter=3000)\n",
    "lr.fit(train_tfmat,y_train) #training\n",
    "y_pred_lr=lr.predict(test_tfmat) #testing "
   ]
  },
  {
   "cell_type": "code",
   "execution_count": 29,
   "id": "ddc60f52",
   "metadata": {},
   "outputs": [
    {
     "name": "stdout",
     "output_type": "stream",
     "text": [
      "              precision    recall  f1-score   support\n",
      "\n",
      "      Custom       0.83      0.57      0.68      7368\n",
      "     Generic       0.96      0.99      0.98     86298\n",
      "\n",
      "    accuracy                           0.96     93666\n",
      "   macro avg       0.90      0.78      0.83     93666\n",
      "weighted avg       0.95      0.96      0.95     93666\n",
      "\n"
     ]
    }
   ],
   "source": [
    "print(classification_report(y_test, y_pred_lr ,  labels=np.unique(y_pred_lr)))"
   ]
  },
  {
   "cell_type": "code",
   "execution_count": 30,
   "id": "79b0d1de",
   "metadata": {
    "id": "pDct5_5-QK9W"
   },
   "outputs": [],
   "source": [
    "from sklearn import tree\n",
    "#DT = tree.DecisionTreeClassifier(criterion='entropy', max_depth=3, random_state=0)\n",
    "DT = tree.DecisionTreeClassifier()\n",
    "DT.fit(train_tfmat,y_train) #training\n",
    "y_pred_DT=DT.predict(test_tfmat) #testing "
   ]
  },
  {
   "cell_type": "code",
   "execution_count": 31,
   "id": "bd88bf8c",
   "metadata": {
    "colab": {
     "base_uri": "https://localhost:8080/"
    },
    "id": "wxwRjaZ_ZIqm",
    "outputId": "4170ee3d-679a-4581-f9b8-4b0318c07c94"
   },
   "outputs": [
    {
     "name": "stdout",
     "output_type": "stream",
     "text": [
      "              precision    recall  f1-score   support\n",
      "\n",
      "      Custom       0.90      0.74      0.81      7368\n",
      "     Generic       0.98      0.99      0.99     86298\n",
      "\n",
      "    accuracy                           0.97     93666\n",
      "   macro avg       0.94      0.87      0.90     93666\n",
      "weighted avg       0.97      0.97      0.97     93666\n",
      "\n"
     ]
    }
   ],
   "source": [
    "print(classification_report(y_test, y_pred_DT ,  labels=np.unique(y_pred_DT)))"
   ]
  },
  {
   "cell_type": "code",
   "execution_count": 32,
   "id": "06b4f9d3",
   "metadata": {},
   "outputs": [
    {
     "data": {
      "text/html": [
       "<div>\n",
       "<style scoped>\n",
       "    .dataframe tbody tr th:only-of-type {\n",
       "        vertical-align: middle;\n",
       "    }\n",
       "\n",
       "    .dataframe tbody tr th {\n",
       "        vertical-align: top;\n",
       "    }\n",
       "\n",
       "    .dataframe thead th {\n",
       "        text-align: right;\n",
       "    }\n",
       "</style>\n",
       "<table border=\"1\" class=\"dataframe\">\n",
       "  <thead>\n",
       "    <tr style=\"text-align: right;\">\n",
       "      <th></th>\n",
       "      <th>Custom</th>\n",
       "      <th>Generic</th>\n",
       "    </tr>\n",
       "  </thead>\n",
       "  <tbody>\n",
       "    <tr>\n",
       "      <th>Custom</th>\n",
       "      <td>5441</td>\n",
       "      <td>1927</td>\n",
       "    </tr>\n",
       "    <tr>\n",
       "      <th>Generic</th>\n",
       "      <td>588</td>\n",
       "      <td>85710</td>\n",
       "    </tr>\n",
       "  </tbody>\n",
       "</table>\n",
       "</div>"
      ],
      "text/plain": [
       "         Custom  Generic\n",
       "Custom     5441     1927\n",
       "Generic     588    85710"
      ]
     },
     "execution_count": 32,
     "metadata": {},
     "output_type": "execute_result"
    }
   ],
   "source": [
    "df_metrics_DT = pd.DataFrame(metrics.confusion_matrix(y_test,y_pred_DT),\\\n",
    "                          index=['Custom','Generic'], columns=['Custom','Generic'])\n",
    "df_metrics_DT"
   ]
  },
  {
   "cell_type": "code",
   "execution_count": 33,
   "id": "0b402cb9",
   "metadata": {
    "id": "Sc6IiM1XLs7Q"
   },
   "outputs": [
    {
     "data": {
      "text/plain": [
       "<AxesSubplot:>"
      ]
     },
     "execution_count": 33,
     "metadata": {},
     "output_type": "execute_result"
    },
    {
     "data": {
      "image/png": "[encoded data removed]",
      "text/plain": [
       "<Figure size 900x300 with 2 Axes>"
      ]
     },
     "metadata": {},
     "output_type": "display_data"
    }
   ],
   "source": [
    "plt.figure(figsize = (9,3))\n",
    "sn.heatmap(df_metrics_DT, annot=True)"
   ]
  },
  {
   "cell_type": "code",
   "execution_count": null,
   "id": "900b54a8",
   "metadata": {},
   "outputs": [],
   "source": []
  },
  {
   "cell_type": "code",
   "execution_count": 34,
   "id": "8c86a9ec",
   "metadata": {
    "colab": {
     "base_uri": "https://localhost:8080/"
    },
    "id": "MNe0CJ7uLvLl",
    "outputId": "7f4cbe77-9d02-40ed-a2b5-5bc700210641"
   },
   "outputs": [
    {
     "name": "stdout",
     "output_type": "stream",
     "text": [
      "accuracy of BernoulliNB: 0.8764866653855188\n",
      "accuracy of MultinomialNB: 0.9294621314030704\n",
      "accuracy of SVM: 0.964576260329255\n",
      "accuracy of LR: 0.9571562786923751\n",
      "accuracy of DT: 0.9731492750838084\n"
     ]
    }
   ],
   "source": [
    "from sklearn.metrics import  accuracy_score\n",
    "from sklearn import metrics\n",
    "\n",
    "print(\"accuracy of BernoulliNB:\", metrics.accuracy_score(y_test, y_pred_BerNV))\n",
    "print(\"accuracy of MultinomialNB:\", metrics.accuracy_score(y_test, y_pred_MultiNB))\n",
    "print(\"accuracy of SVM:\", metrics.accuracy_score(y_test, y_pred_lsvm))\n",
    "print(\"accuracy of LR:\", metrics.accuracy_score(y_test, y_pred_lr))\n",
    "print(\"accuracy of DT:\", metrics.accuracy_score(y_test, y_pred_DT))"
   ]
  },
  {
   "cell_type": "markdown",
   "id": "24da1da0",
   "metadata": {},
   "source": [
    "# test "
   ]
  },
  {
   "cell_type": "code",
   "execution_count": 35,
   "id": "3748890b",
   "metadata": {
    "id": "SEFuWwyFMA5R"
   },
   "outputs": [
    {
     "data": {
      "text/plain": [
       "array(['Generic'], dtype=object)"
      ]
     },
     "execution_count": 35,
     "metadata": {},
     "output_type": "execute_result"
    }
   ],
   "source": [
    "phrase= [\"مرحباً، شكراً لك على التقييم يعمل فريقنا دوماً على إضافة كل جديد، لذا تابعنا لتبقى على إطلاع.\"]\n",
    "test_str = vectorizer.transform(phrase)\n",
    "test_tfstr = tfidf.transform(test_str)\n",
    "test_tfstr.shape\n",
    "\n",
    "lsvm.predict(test_tfstr.toarray())"
   ]
  },
  {
   "cell_type": "markdown",
   "id": "6863175e",
   "metadata": {},
   "source": [
    "# save model"
   ]
  },
  {
   "cell_type": "code",
   "execution_count": 36,
   "id": "d13bb2b0",
   "metadata": {},
   "outputs": [],
   "source": [
    "import pickle\n",
    "with open('lsvm_model.pickle', 'wb') as f:\n",
    "    pickle.dump(lsvm, f)\n",
    "\n",
    "with open('lr_model.pickle', 'wb') as f:\n",
    "    pickle.dump(lr, f)\n",
    "    \n",
    "with open('dt_model.pickle', 'wb') as f:\n",
    "    pickle.dump(DT, f)\n",
    "    \n",
    "    \n",
    "pickle.dump(vectorizer, open(\"vectorizer.pickle\", \"wb\")) #//Save vectorizer"
   ]
  },
  {
   "cell_type": "code",
   "execution_count": null,
   "id": "6ce89356",
   "metadata": {},
   "outputs": [],
   "source": []
  }
 ],
 "metadata": {
  "kernelspec": {
   "display_name": "Python 3 (ipykernel)",
   "language": "python",
   "name": "python3"
  },
  "language_info": {
   "codemirror_mode": {
    "name": "ipython",
    "version": 3
   },
   "file_extension": ".py",
   "mimetype": "text/x-python",
   "name": "python",
   "nbconvert_exporter": "python",
   "pygments_lexer": "ipython3",
   "version": "3.9.13"
  }
 },
 "nbformat": 4,
 "nbformat_minor": 5
}
