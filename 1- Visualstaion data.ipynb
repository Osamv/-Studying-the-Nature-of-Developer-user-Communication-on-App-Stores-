{
 "cells": [
  {
   "cell_type": "code",
   "execution_count": 1,
   "id": "52bf55d1",
   "metadata": {},
   "outputs": [],
   "source": [
    "# reading data\n",
    "import pandas as pd\n",
    "data = pd.read_csv('Combined_files.csv' ,encoding='utf-8-sig')"
   ]
  },
  {
   "cell_type": "markdown",
   "id": "6f07ead9",
   "metadata": {},
   "source": []
  },
  {
   "cell_type": "code",
   "execution_count": 2,
   "id": "70c4a42a",
   "metadata": {},
   "outputs": [
    {
     "data": {
      "text/html": [
       "<div>\n",
       "<style scoped>\n",
       "    .dataframe tbody tr th:only-of-type {\n",
       "        vertical-align: middle;\n",
       "    }\n",
       "\n",
       "    .dataframe tbody tr th {\n",
       "        vertical-align: top;\n",
       "    }\n",
       "\n",
       "    .dataframe thead th {\n",
       "        text-align: right;\n",
       "    }\n",
       "</style>\n",
       "<table border=\"1\" class=\"dataframe\">\n",
       "  <thead>\n",
       "    <tr style=\"text-align: right;\">\n",
       "      <th></th>\n",
       "      <th>source</th>\n",
       "      <th>review_id</th>\n",
       "      <th>user_name</th>\n",
       "      <th>review_description</th>\n",
       "      <th>rating</th>\n",
       "      <th>review_date</th>\n",
       "      <th>developer_response</th>\n",
       "      <th>developer_response_date</th>\n",
       "    </tr>\n",
       "  </thead>\n",
       "  <tbody>\n",
       "    <tr>\n",
       "      <th>0</th>\n",
       "      <td>Google Play</td>\n",
       "      <td>d855686a-7ebe-4cef-911f-3d124bc2d61a</td>\n",
       "      <td>‫عمرو محمد (داود)‬‎</td>\n",
       "      <td>very good</td>\n",
       "      <td>5</td>\n",
       "      <td>2023-01-04 15:47:27</td>\n",
       "      <td>We sincerely thank you for taking the time to ...</td>\n",
       "      <td>2023-01-04 21:06:38</td>\n",
       "    </tr>\n",
       "    <tr>\n",
       "      <th>1</th>\n",
       "      <td>Google Play</td>\n",
       "      <td>0491e3b8-c262-4ef3-ab74-4a962a7a28ee</td>\n",
       "      <td>Moath Tobasi</td>\n",
       "      <td>ارمكس برنامج ممتاز لا يوجد اي تعليق المواعيد ف...</td>\n",
       "      <td>5</td>\n",
       "      <td>2023-01-04 15:46:03</td>\n",
       "      <td>سعيدين بخدمتك وشكراً لتقييمك نتطلع لخدمتك مستق...</td>\n",
       "      <td>2023-01-04 15:12:31</td>\n",
       "    </tr>\n",
       "    <tr>\n",
       "      <th>2</th>\n",
       "      <td>Google Play</td>\n",
       "      <td>0b537bf6-2dc3-4d4b-b239-6e6b916eaadc</td>\n",
       "      <td>Mohamed Mohamedy</td>\n",
       "      <td>فوق الممتاز</td>\n",
       "      <td>5</td>\n",
       "      <td>2023-01-04 14:07:14</td>\n",
       "      <td>سعيدين بخدمتك وشكراً لتقييمك نتطلع لخدمتك مستق...</td>\n",
       "      <td>2023-01-04 19:51:33</td>\n",
       "    </tr>\n",
       "    <tr>\n",
       "      <th>3</th>\n",
       "      <td>Google Play</td>\n",
       "      <td>5e50884e-e69a-4d05-8ae3-0b0aea7f278c</td>\n",
       "      <td>temoo tamam</td>\n",
       "      <td>خدمة سيئة جدا وعدم الالتزام بمواعيد التسليم وخ...</td>\n",
       "      <td>1</td>\n",
       "      <td>2023-01-04 13:52:23</td>\n",
       "      <td>مرحباً، عذراً منك على ذلك! نود الحصول على تفاص...</td>\n",
       "      <td>2023-01-04 19:30:51</td>\n",
       "    </tr>\n",
       "    <tr>\n",
       "      <th>4</th>\n",
       "      <td>Google Play</td>\n",
       "      <td>c29dbb95-8dfa-4918-94ca-5e124d405930</td>\n",
       "      <td>tufool mab</td>\n",
       "      <td>شكرا على حسن تعاونكم معنا</td>\n",
       "      <td>5</td>\n",
       "      <td>2023-01-04 06:42:33</td>\n",
       "      <td>يسرنا سماع ذلك، ونتمنى أن نكون عند حسن ظنك دائ...</td>\n",
       "      <td>2023-01-04 15:50:52</td>\n",
       "    </tr>\n",
       "  </tbody>\n",
       "</table>\n",
       "</div>"
      ],
      "text/plain": [
       "        source                             review_id            user_name  \\\n",
       "0  Google Play  d855686a-7ebe-4cef-911f-3d124bc2d61a  ‫عمرو محمد (داود)‬‎   \n",
       "1  Google Play  0491e3b8-c262-4ef3-ab74-4a962a7a28ee         Moath Tobasi   \n",
       "2  Google Play  0b537bf6-2dc3-4d4b-b239-6e6b916eaadc     Mohamed Mohamedy   \n",
       "3  Google Play  5e50884e-e69a-4d05-8ae3-0b0aea7f278c          temoo tamam   \n",
       "4  Google Play  c29dbb95-8dfa-4918-94ca-5e124d405930           tufool mab   \n",
       "\n",
       "                                  review_description  rating  \\\n",
       "0                                          very good       5   \n",
       "1  ارمكس برنامج ممتاز لا يوجد اي تعليق المواعيد ف...       5   \n",
       "2                                        فوق الممتاز       5   \n",
       "3  خدمة سيئة جدا وعدم الالتزام بمواعيد التسليم وخ...       1   \n",
       "4                          شكرا على حسن تعاونكم معنا       5   \n",
       "\n",
       "           review_date                                 developer_response  \\\n",
       "0  2023-01-04 15:47:27  We sincerely thank you for taking the time to ...   \n",
       "1  2023-01-04 15:46:03  سعيدين بخدمتك وشكراً لتقييمك نتطلع لخدمتك مستق...   \n",
       "2  2023-01-04 14:07:14  سعيدين بخدمتك وشكراً لتقييمك نتطلع لخدمتك مستق...   \n",
       "3  2023-01-04 13:52:23  مرحباً، عذراً منك على ذلك! نود الحصول على تفاص...   \n",
       "4  2023-01-04 06:42:33  يسرنا سماع ذلك، ونتمنى أن نكون عند حسن ظنك دائ...   \n",
       "\n",
       "  developer_response_date  \n",
       "0     2023-01-04 21:06:38  \n",
       "1     2023-01-04 15:12:31  \n",
       "2     2023-01-04 19:51:33  \n",
       "3     2023-01-04 19:30:51  \n",
       "4     2023-01-04 15:50:52  "
      ]
     },
     "execution_count": 2,
     "metadata": {},
     "output_type": "execute_result"
    }
   ],
   "source": [
    "data.head()"
   ]
  },
  {
   "cell_type": "code",
   "execution_count": 3,
   "id": "735d86b6",
   "metadata": {},
   "outputs": [
    {
     "data": {
      "text/plain": [
       "(740349, 8)"
      ]
     },
     "execution_count": 3,
     "metadata": {},
     "output_type": "execute_result"
    }
   ],
   "source": [
    "data.shape"
   ]
  },
  {
   "cell_type": "code",
   "execution_count": 4,
   "id": "d26748c8",
   "metadata": {},
   "outputs": [
    {
     "data": {
      "text/plain": [
       "source                          0\n",
       "review_id                       0\n",
       "user_name                       3\n",
       "review_description            727\n",
       "rating                          0\n",
       "review_date                     0\n",
       "developer_response         455381\n",
       "developer_response_date    455381\n",
       "dtype: int64"
      ]
     },
     "execution_count": 4,
     "metadata": {},
     "output_type": "execute_result"
    }
   ],
   "source": [
    "# check missing values\n",
    "data.isna().sum()"
   ]
  },
  {
   "cell_type": "code",
   "execution_count": 5,
   "id": "be8f477a",
   "metadata": {},
   "outputs": [
    {
     "data": {
      "text/plain": [
       "<AxesSubplot:>"
      ]
     },
     "execution_count": 5,
     "metadata": {},
     "output_type": "execute_result"
    },
    {
     "data": {
      "image/png": "[encoded data removed]",
      "text/plain": [
       "<Figure size 640x480 with 1 Axes>"
      ]
     },
     "metadata": {},
     "output_type": "display_data"
    }
   ],
   "source": [
    "data.isna().sum()[data.isna().sum()>0].plot(kind='bar')"
   ]
  },
  {
   "cell_type": "code",
   "execution_count": 6,
   "id": "f536dcda",
   "metadata": {},
   "outputs": [
    {
     "name": "stdout",
     "output_type": "stream",
     "text": [
      "Count of developer_response is null = 455381 \n"
     ]
    }
   ],
   "source": [
    "print (\"Count of developer_response is null = {} \".format(data.developer_response.isnull().sum()))"
   ]
  },
  {
   "cell_type": "code",
   "execution_count": 7,
   "id": "9e3f3b54",
   "metadata": {},
   "outputs": [
    {
     "name": "stdout",
     "output_type": "stream",
     "text": [
      "Present of developer_response is null in dataset = 61.50896401561966 \n"
     ]
    }
   ],
   "source": [
    "print (\"Present of developer_response is null in dataset = {} \".format(data.developer_response.isnull().sum()/len(data) * 100))"
   ]
  },
  {
   "cell_type": "code",
   "execution_count": null,
   "id": "7b42cd26",
   "metadata": {},
   "outputs": [],
   "source": []
  },
  {
   "cell_type": "code",
   "execution_count": 8,
   "id": "fbb3e8f1",
   "metadata": {},
   "outputs": [
    {
     "data": {
      "text/plain": [
       "0         False\n",
       "1         False\n",
       "2         False\n",
       "3         False\n",
       "4         False\n",
       "          ...  \n",
       "740344    False\n",
       "740345    False\n",
       "740346    False\n",
       "740347    False\n",
       "740348    False\n",
       "Name: developer_response, Length: 740349, dtype: object"
      ]
     },
     "execution_count": 8,
     "metadata": {},
     "output_type": "execute_result"
    }
   ],
   "source": [
    "_english =  data.developer_response.str.isalpha()\n",
    "_english"
   ]
  },
  {
   "cell_type": "code",
   "execution_count": 9,
   "id": "9b11f719",
   "metadata": {},
   "outputs": [
    {
     "name": "stdout",
     "output_type": "stream",
     "text": [
      "       developer_response\n",
      "0                   False\n",
      "1                   False\n",
      "2                   False\n",
      "3                   False\n",
      "4                   False\n",
      "...                   ...\n",
      "740344              False\n",
      "740345              False\n",
      "740346              False\n",
      "740347              False\n",
      "740348              False\n",
      "\n",
      "[740349 rows x 1 columns]\n"
     ]
    }
   ],
   "source": [
    "_English2DataFrame = _english.to_frame()\n",
    "print (_English2DataFrame)"
   ]
  },
  {
   "cell_type": "code",
   "execution_count": 10,
   "id": "8afd683b",
   "metadata": {},
   "outputs": [],
   "source": [
    "_English2list = _English2DataFrame['developer_response'].to_list()\n",
    "#lenEnglish2list"
   ]
  },
  {
   "cell_type": "code",
   "execution_count": 11,
   "id": "9402f3f6",
   "metadata": {},
   "outputs": [
    {
     "name": "stdout",
     "output_type": "stream",
     "text": [
      "740349\n",
      "{False: 283972, nan: 455381, True: 996}\n"
     ]
    }
   ],
   "source": [
    "#search for frequencies sentnecte and count to map\n",
    "mp = dict()\n",
    "def count(arr, n):    \n",
    "    # Traverse through array elements\n",
    "    # and count frequencies\n",
    "    for i in range(n):\n",
    "        if arr[i] in mp.keys():\n",
    "            mp[arr[i]] += 1\n",
    "        else:\n",
    "            mp[arr[i]] = 1\n",
    "\n",
    "n = len(_English2list) \n",
    "print (n)\n",
    "count(_English2list, n)\n",
    "\n",
    "print (mp)"
   ]
  },
  {
   "cell_type": "code",
   "execution_count": null,
   "id": "d771a7c3",
   "metadata": {},
   "outputs": [],
   "source": []
  },
  {
   "cell_type": "code",
   "execution_count": null,
   "id": "d991e59d",
   "metadata": {},
   "outputs": [],
   "source": []
  }
 ],
 "metadata": {
  "kernelspec": {
   "display_name": "Python 3 (ipykernel)",
   "language": "python",
   "name": "python3"
  },
  "language_info": {
   "codemirror_mode": {
    "name": "ipython",
    "version": 3
   },
   "file_extension": ".py",
   "mimetype": "text/x-python",
   "name": "python",
   "nbconvert_exporter": "python",
   "pygments_lexer": "ipython3",
   "version": "3.9.13"
  }
 },
 "nbformat": 4,
 "nbformat_minor": 5
}
