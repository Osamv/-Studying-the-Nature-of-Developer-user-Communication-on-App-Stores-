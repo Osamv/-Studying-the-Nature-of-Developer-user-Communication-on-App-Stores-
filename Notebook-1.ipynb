{
    "metadata": {
        "kernelspec": {
            "name": "python3",
            "display_name": "Python 3 (ipykernel)",
            "language": "python"
        },
        "language_info": {
            "name": "python",
            "version": "3.8.10",
            "mimetype": "text/x-python",
            "codemirror_mode": {
                "name": "ipython",
                "version": 3
            },
            "pygments_lexer": "ipython3",
            "nbconvert_exporter": "python",
            "file_extension": ".py"
        }
    },
    "nbformat_minor": 2,
    "nbformat": 4,
    "cells": [
        {
            "cell_type": "code",
            "source": [
                "from google_play_scraper import app, Sort, reviews_all\r\n",
                "from app_store_scraper import AppStore\r\n",
                "import pandas as pd\r\n",
                "import numpy as np\r\n",
                "import json, os, uuid\r\n",
                "import openpyxl"
            ],
            "metadata": {
                "azdata_cell_guid": "071e17f5-6807-44da-8a92-d59ae41f5b88",
                "language": "python",
                "tags": []
            },
            "outputs": [],
            "execution_count": 28
        },
        {
            "cell_type": "code",
            "source": [
                "g_reviews = reviews_all(\r\n",
                "        \"com.riyadbank.strategic\",\r\n",
                "        sleep_milliseconds=0, # defaults to 0\r\n",
                "        lang='ar', # defaults to 'en'\r\n",
                "        country='sa', # defaults to 'us'\r\n",
                "        sort=Sort.NEWEST, # defaults to Sort.MOST_RELEVANT\r\n",
                "    )\r\n",
                "a_reviews = AppStore('sa', 'riyad-bank-mobile', '1445567211')\r\n",
                "a_reviews.review()"
            ],
            "metadata": {
                "azdata_cell_guid": "93e31fc3-197e-4d13-831a-cb8a4ec832a4",
                "language": "python",
                "tags": []
            },
            "outputs": [
                {
                    "name": "stderr",
                    "text": "2023-01-02 18:41:36,976 [INFO] Base - Initialised: AppStore('sa', 'riyad-bank-mobile', 1445567211)\n",
                    "output_type": "stream"
                },
                {
                    "name": "stderr",
                    "text": "2023-01-02 18:41:36,976 [INFO] Base - Ready to fetch reviews from: https://apps.apple.com/sa/app/riyad-bank-mobile/id1445567211\n",
                    "output_type": "stream"
                },
                {
                    "name": "stderr",
                    "text": "2023-01-02 18:41:42,290 [INFO] Base - [id:1445567211] Fetched 260 reviews (260 fetched in total)\n",
                    "output_type": "stream"
                },
                {
                    "name": "stderr",
                    "text": "2023-01-02 18:41:47,731 [INFO] Base - [id:1445567211] Fetched 480 reviews (480 fetched in total)\n",
                    "output_type": "stream"
                },
                {
                    "name": "stderr",
                    "text": "2023-01-02 18:41:53,664 [INFO] Base - [id:1445567211] Fetched 640 reviews (640 fetched in total)\n",
                    "output_type": "stream"
                },
                {
                    "name": "stderr",
                    "text": "2023-01-02 18:41:59,094 [INFO] Base - [id:1445567211] Fetched 900 reviews (900 fetched in total)\n",
                    "output_type": "stream"
                },
                {
                    "name": "stderr",
                    "text": "2023-01-02 18:42:04,501 [INFO] Base - [id:1445567211] Fetched 1120 reviews (1120 fetched in total)\n",
                    "output_type": "stream"
                },
                {
                    "name": "stderr",
                    "text": "2023-01-02 18:42:10,046 [INFO] Base - [id:1445567211] Fetched 1380 reviews (1380 fetched in total)\n",
                    "output_type": "stream"
                },
                {
                    "name": "stderr",
                    "text": "2023-01-02 18:42:14,964 [INFO] Base - [id:1445567211] Fetched 1631 reviews (1631 fetched in total)\n",
                    "output_type": "stream"
                }
            ],
            "execution_count": 6
        },
        {
            "cell_type": "code",
            "source": [
                "g_df = pd.DataFrame(np.array(g_reviews),columns=['review'])\r\n",
                "g_df2 = g_df.join(pd.DataFrame(g_df.pop('review').tolist()))\r\n",
                "\r\n",
                "g_df2.drop(columns={'userImage', 'reviewCreatedVersion'},inplace = True)\r\n",
                "g_df2.rename(columns= {'score': 'rating','userName': 'user_name', 'reviewId': 'review_id', 'content': 'review_description', 'at': 'review_date', 'replyContent': 'developer_response', 'repliedAt': 'developer_response_date', 'thumbsUpCount': 'thumbs_up'},inplace = True)\r\n",
                "g_df2.insert(loc=0, column='source', value='Google Play')\r\n",
                "g_df2.insert(loc=3, column='review_title', value=None)\r\n",
                "g_df2['laguage_code'] = 'en'\r\n",
                "g_df2['country_code'] = 'us'\r\n",
                "g_df2"
            ],
            "metadata": {
                "language": "python",
                "azdata_cell_guid": "c40b92d5-d538-4c0b-9deb-cc0b0cd79adc"
            },
            "outputs": [
                {
                    "data": {
                        "text/plain": "            source                             review_id      user_name  \\\n0      Google Play  3f650d64-3d8a-4fca-abec-60200a0fde83    عايض البقمي   \n1      Google Play  fbdbaf50-fd00-4ea6-82f4-7465bf93f037      احمد كعبي   \n2      Google Play  fd1f3d9f-927b-487b-b3a5-7e3893acc400      meemaa 88   \n3      Google Play  392a63b4-cda3-4383-bf0a-a636d55f8276  ماجد الأركاني   \n4      Google Play  e591546d-7df5-4cd1-8fb0-49b63b3d6dba      ناصر عبيد   \n...            ...                                   ...            ...   \n15952  Google Play  dfb74c34-36fd-40e3-974e-0d0b6d8b1486  مستخدم Google   \n15953  Google Play  1acbc82b-c654-45fd-911b-b92eaac6276c  مستخدم Google   \n15954  Google Play  1d478bf5-96cf-418a-91f4-c347ae1a10c1  مستخدم Google   \n15955  Google Play  ba7d2f77-3420-4af1-bfae-0873ad85d390  مستخدم Google   \n15956  Google Play  c4302e19-fc60-4b6e-ba3e-c6d59b0803d6  مستخدم Google   \n\n      review_title                                 review_description  rating  \\\n0             None                                                جيد       5   \n1             None  تطبيق فاشل لايحفظ اسم المستخدم ولا استطيع تفعي...       1   \n2             None                 تطبيق من سيء الى اسوأ بعد كل تحديث       1   \n3             None                     انحلت المشكلة رحت الفرع وانحلت       1   \n4             None                                           جيد جداً       5   \n...            ...                                                ...     ...   \n15952         None                                          رائع وسهل       5   \n15953         None                                        تحت التجربة       5   \n15954         None                                         ابدااااع 👌       5   \n15955         None  خطوة جميلة في تطوير التطبيق بعض الملاحظات التي...       3   \n15956         None  تطبيق اكثر من رائع بعد ان تم عمل التعديلات و ا...       5   \n\n       thumbs_up         review_date  \\\n0              0 2023-01-01 15:09:18   \n1              0 2022-12-31 19:11:18   \n2              0 2022-12-31 19:08:07   \n3              0 2022-12-31 09:15:03   \n4              0 2022-12-29 12:26:26   \n...          ...                 ...   \n15952          1 2019-03-24 01:05:01   \n15953          1 2019-03-20 15:34:47   \n15954          2 2019-03-12 19:39:35   \n15955          8 2019-03-12 13:38:56   \n15956         16 2019-03-07 14:31:10   \n\n                                      developer_response  \\\n0                                                   None   \n1                                                   None   \n2                                                   None   \n3      عميلنا العزيز، نأمل منك تزويدنا بالملاحظة التي...   \n4                                                   None   \n...                                                  ...   \n15952                                               None   \n15953                                               None   \n15954                                               None   \n15955                                               None   \n15956                                               None   \n\n      developer_response_date laguage_code country_code  \n0                         NaT           en           us  \n1                         NaT           en           us  \n2                         NaT           en           us  \n3         2022-12-31 06:57:19           en           us  \n4                         NaT           en           us  \n...                       ...          ...          ...  \n15952                     NaT           en           us  \n15953                     NaT           en           us  \n15954                     NaT           en           us  \n15955                     NaT           en           us  \n15956                     NaT           en           us  \n\n[15957 rows x 12 columns]",
                        "text/html": "<div>\n<style scoped>\n    .dataframe tbody tr th:only-of-type {\n        vertical-align: middle;\n    }\n\n    .dataframe tbody tr th {\n        vertical-align: top;\n    }\n\n    .dataframe thead th {\n        text-align: right;\n    }\n</style>\n<table border=\"1\" class=\"dataframe\">\n  <thead>\n    <tr style=\"text-align: right;\">\n      <th></th>\n      <th>source</th>\n      <th>review_id</th>\n      <th>user_name</th>\n      <th>review_title</th>\n      <th>review_description</th>\n      <th>rating</th>\n      <th>thumbs_up</th>\n      <th>review_date</th>\n      <th>developer_response</th>\n      <th>developer_response_date</th>\n      <th>laguage_code</th>\n      <th>country_code</th>\n    </tr>\n  </thead>\n  <tbody>\n    <tr>\n      <th>0</th>\n      <td>Google Play</td>\n      <td>3f650d64-3d8a-4fca-abec-60200a0fde83</td>\n      <td>عايض البقمي</td>\n      <td>None</td>\n      <td>جيد</td>\n      <td>5</td>\n      <td>0</td>\n      <td>2023-01-01 15:09:18</td>\n      <td>None</td>\n      <td>NaT</td>\n      <td>en</td>\n      <td>us</td>\n    </tr>\n    <tr>\n      <th>1</th>\n      <td>Google Play</td>\n      <td>fbdbaf50-fd00-4ea6-82f4-7465bf93f037</td>\n      <td>احمد كعبي</td>\n      <td>None</td>\n      <td>تطبيق فاشل لايحفظ اسم المستخدم ولا استطيع تفعي...</td>\n      <td>1</td>\n      <td>0</td>\n      <td>2022-12-31 19:11:18</td>\n      <td>None</td>\n      <td>NaT</td>\n      <td>en</td>\n      <td>us</td>\n    </tr>\n    <tr>\n      <th>2</th>\n      <td>Google Play</td>\n      <td>fd1f3d9f-927b-487b-b3a5-7e3893acc400</td>\n      <td>meemaa 88</td>\n      <td>None</td>\n      <td>تطبيق من سيء الى اسوأ بعد كل تحديث</td>\n      <td>1</td>\n      <td>0</td>\n      <td>2022-12-31 19:08:07</td>\n      <td>None</td>\n      <td>NaT</td>\n      <td>en</td>\n      <td>us</td>\n    </tr>\n    <tr>\n      <th>3</th>\n      <td>Google Play</td>\n      <td>392a63b4-cda3-4383-bf0a-a636d55f8276</td>\n      <td>ماجد الأركاني</td>\n      <td>None</td>\n      <td>انحلت المشكلة رحت الفرع وانحلت</td>\n      <td>1</td>\n      <td>0</td>\n      <td>2022-12-31 09:15:03</td>\n      <td>عميلنا العزيز، نأمل منك تزويدنا بالملاحظة التي...</td>\n      <td>2022-12-31 06:57:19</td>\n      <td>en</td>\n      <td>us</td>\n    </tr>\n    <tr>\n      <th>4</th>\n      <td>Google Play</td>\n      <td>e591546d-7df5-4cd1-8fb0-49b63b3d6dba</td>\n      <td>ناصر عبيد</td>\n      <td>None</td>\n      <td>جيد جداً</td>\n      <td>5</td>\n      <td>0</td>\n      <td>2022-12-29 12:26:26</td>\n      <td>None</td>\n      <td>NaT</td>\n      <td>en</td>\n      <td>us</td>\n    </tr>\n    <tr>\n      <th>...</th>\n      <td>...</td>\n      <td>...</td>\n      <td>...</td>\n      <td>...</td>\n      <td>...</td>\n      <td>...</td>\n      <td>...</td>\n      <td>...</td>\n      <td>...</td>\n      <td>...</td>\n      <td>...</td>\n      <td>...</td>\n    </tr>\n    <tr>\n      <th>15952</th>\n      <td>Google Play</td>\n      <td>dfb74c34-36fd-40e3-974e-0d0b6d8b1486</td>\n      <td>مستخدم Google</td>\n      <td>None</td>\n      <td>رائع وسهل</td>\n      <td>5</td>\n      <td>1</td>\n      <td>2019-03-24 01:05:01</td>\n      <td>None</td>\n      <td>NaT</td>\n      <td>en</td>\n      <td>us</td>\n    </tr>\n    <tr>\n      <th>15953</th>\n      <td>Google Play</td>\n      <td>1acbc82b-c654-45fd-911b-b92eaac6276c</td>\n      <td>مستخدم Google</td>\n      <td>None</td>\n      <td>تحت التجربة</td>\n      <td>5</td>\n      <td>1</td>\n      <td>2019-03-20 15:34:47</td>\n      <td>None</td>\n      <td>NaT</td>\n      <td>en</td>\n      <td>us</td>\n    </tr>\n    <tr>\n      <th>15954</th>\n      <td>Google Play</td>\n      <td>1d478bf5-96cf-418a-91f4-c347ae1a10c1</td>\n      <td>مستخدم Google</td>\n      <td>None</td>\n      <td>ابدااااع 👌</td>\n      <td>5</td>\n      <td>2</td>\n      <td>2019-03-12 19:39:35</td>\n      <td>None</td>\n      <td>NaT</td>\n      <td>en</td>\n      <td>us</td>\n    </tr>\n    <tr>\n      <th>15955</th>\n      <td>Google Play</td>\n      <td>ba7d2f77-3420-4af1-bfae-0873ad85d390</td>\n      <td>مستخدم Google</td>\n      <td>None</td>\n      <td>خطوة جميلة في تطوير التطبيق بعض الملاحظات التي...</td>\n      <td>3</td>\n      <td>8</td>\n      <td>2019-03-12 13:38:56</td>\n      <td>None</td>\n      <td>NaT</td>\n      <td>en</td>\n      <td>us</td>\n    </tr>\n    <tr>\n      <th>15956</th>\n      <td>Google Play</td>\n      <td>c4302e19-fc60-4b6e-ba3e-c6d59b0803d6</td>\n      <td>مستخدم Google</td>\n      <td>None</td>\n      <td>تطبيق اكثر من رائع بعد ان تم عمل التعديلات و ا...</td>\n      <td>5</td>\n      <td>16</td>\n      <td>2019-03-07 14:31:10</td>\n      <td>None</td>\n      <td>NaT</td>\n      <td>en</td>\n      <td>us</td>\n    </tr>\n  </tbody>\n</table>\n<p>15957 rows × 12 columns</p>\n</div>"
                    },
                    "metadata": {},
                    "execution_count": 7,
                    "output_type": "execute_result"
                }
            ],
            "execution_count": 7
        },
        {
            "cell_type": "code",
            "source": [
                "a_df = pd.DataFrame(np.array(a_reviews.reviews),columns=['review'])\r\n",
                "a_df2 = a_df.join(pd.DataFrame(a_df.pop('review').tolist()))\r\n",
                "\r\n",
                "a_df2.drop(columns={'isEdited'},inplace = True)\r\n",
                "a_df2.insert(loc=0, column='source', value='App Store')\r\n",
                "a_df2['developer_response_date'] = None\r\n",
                "a_df2['thumbs_up'] = None\r\n",
                "a_df2['laguage_code'] = 'ar'\r\n",
                "a_df2['country_code'] = 'sa'\r\n",
                "a_df2.insert(loc=1, column='review_id', value=[uuid.uuid4() for _ in range(len(a_df2.index))])\r\n",
                "a_df2.rename(columns= {'review': 'review_description','userName': 'user_name', 'date': 'review_date','title': 'review_title', 'developerResponse': 'developer_response'},inplace = True)\r\n",
                "a_df2 = a_df2.where(pd.notnull(a_df2), None)\r\n",
                "a_df2"
            ],
            "metadata": {
                "language": "python",
                "azdata_cell_guid": "7d250984-e064-4cfc-919f-534eedcb825b"
            },
            "outputs": [
                {
                    "data": {
                        "text/plain": "         source                             review_id         review_date  \\\n0     App Store  4c34c978-15f6-41d0-8efb-b49ad6cc3343 2019-09-11 18:40:14   \n1     App Store  2ea944da-0aa9-4ee9-a874-b7f523c16ac8 2019-09-07 11:20:26   \n2     App Store  063e8ffa-9799-4a3e-9a79-19d131260c28 2021-05-08 01:35:39   \n3     App Store  5c66fe2c-59ce-4a6f-b8c0-6f84216f2f37 2022-03-26 10:21:53   \n4     App Store  3db7c057-bad4-40f1-a850-0e819637bff1 2019-09-23 20:54:57   \n...         ...                                   ...                 ...   \n1626  App Store  8a42c1e8-ce8c-454f-82e1-6e7d9e81e218 2019-09-10 22:46:41   \n1627  App Store  69139099-c5b7-4fba-9f5e-1ade2f8b088b 2019-04-29 06:44:13   \n1628  App Store  0de545cc-a7d8-45a2-845a-e44be15d7d4b 2019-06-09 21:41:43   \n1629  App Store  83612a02-5b9d-4a50-a8ca-e07e6ced68e7 2019-06-02 12:10:17   \n1630  App Store  6a325028-fde6-4481-ab43-dc957f00550c 2019-04-24 15:11:07   \n\n                                     developer_response  \\\n0     {'id': 17367867, 'body': 'Dear customer, we re...   \n1     {'id': 10754063, 'body': 'Our apologies for th...   \n2                                                  None   \n3                                                  None   \n4                                                  None   \n...                                                 ...   \n1626  {'id': 10753977, 'body': 'Our apologies for th...   \n1627  {'id': 15930683, 'body': 'Dear Eman, kindly up...   \n1628                                               None   \n1629                                               None   \n1630                                               None   \n\n                                     review_description  rating  \\\n0     This was very disappointing to me as a very lo...       5   \n1     The app is awesome but it has a missing featur...       5   \n2     Riyadh bank has a unique system services which...       5   \n3     From long term customer relationships with Riy...       5   \n4     Performance is much better than before. It’s g...       5   \n...                                                 ...     ...   \n1626  I can’t login failed incorrect username or pas...       5   \n1627  I faced problem every time I logged in takes t...       5   \n1628  Finger print not working \\nPIN is requested ev...       1   \n1629  With the latest update, the app is not working...       2   \n1630                                         👍🏽👍🏽👍🏽👍🏽👍🏽       4   \n\n                      user_name                                review_title  \\\n0     Extremely Disapplointed X  App Hanging: I can’t do a single operation   \n1                     ..zzzmm..                             Missing feature   \n2                      SultanAR                       Facilities & Services   \n3                      abuaah0a                                   Best bank   \n4                  Doctor.Zeyad                            Good performance   \n...                         ...                                         ...   \n1626              walaalsafwani                                   Incorrect   \n1627                    eman1-1                            Great appearance   \n1628              geniusking200                                Lots of bugs   \n1629             Sharaf Hussain                  It is not working properly   \n1630                abomahammed                                    👍🏽👍🏽👍🏽👍🏽   \n\n     developer_response_date thumbs_up laguage_code country_code  \n0                       None      None           ar           sa  \n1                       None      None           ar           sa  \n2                       None      None           ar           sa  \n3                       None      None           ar           sa  \n4                       None      None           ar           sa  \n...                      ...       ...          ...          ...  \n1626                    None      None           ar           sa  \n1627                    None      None           ar           sa  \n1628                    None      None           ar           sa  \n1629                    None      None           ar           sa  \n1630                    None      None           ar           sa  \n\n[1631 rows x 12 columns]",
                        "text/html": "<div>\n<style scoped>\n    .dataframe tbody tr th:only-of-type {\n        vertical-align: middle;\n    }\n\n    .dataframe tbody tr th {\n        vertical-align: top;\n    }\n\n    .dataframe thead th {\n        text-align: right;\n    }\n</style>\n<table border=\"1\" class=\"dataframe\">\n  <thead>\n    <tr style=\"text-align: right;\">\n      <th></th>\n      <th>source</th>\n      <th>review_id</th>\n      <th>review_date</th>\n      <th>developer_response</th>\n      <th>review_description</th>\n      <th>rating</th>\n      <th>user_name</th>\n      <th>review_title</th>\n      <th>developer_response_date</th>\n      <th>thumbs_up</th>\n      <th>laguage_code</th>\n      <th>country_code</th>\n    </tr>\n  </thead>\n  <tbody>\n    <tr>\n      <th>0</th>\n      <td>App Store</td>\n      <td>4c34c978-15f6-41d0-8efb-b49ad6cc3343</td>\n      <td>2019-09-11 18:40:14</td>\n      <td>{'id': 17367867, 'body': 'Dear customer, we re...</td>\n      <td>This was very disappointing to me as a very lo...</td>\n      <td>5</td>\n      <td>Extremely Disapplointed X</td>\n      <td>App Hanging: I can’t do a single operation</td>\n      <td>None</td>\n      <td>None</td>\n      <td>ar</td>\n      <td>sa</td>\n    </tr>\n    <tr>\n      <th>1</th>\n      <td>App Store</td>\n      <td>2ea944da-0aa9-4ee9-a874-b7f523c16ac8</td>\n      <td>2019-09-07 11:20:26</td>\n      <td>{'id': 10754063, 'body': 'Our apologies for th...</td>\n      <td>The app is awesome but it has a missing featur...</td>\n      <td>5</td>\n      <td>..zzzmm..</td>\n      <td>Missing feature</td>\n      <td>None</td>\n      <td>None</td>\n      <td>ar</td>\n      <td>sa</td>\n    </tr>\n    <tr>\n      <th>2</th>\n      <td>App Store</td>\n      <td>063e8ffa-9799-4a3e-9a79-19d131260c28</td>\n      <td>2021-05-08 01:35:39</td>\n      <td>None</td>\n      <td>Riyadh bank has a unique system services which...</td>\n      <td>5</td>\n      <td>SultanAR</td>\n      <td>Facilities &amp; Services</td>\n      <td>None</td>\n      <td>None</td>\n      <td>ar</td>\n      <td>sa</td>\n    </tr>\n    <tr>\n      <th>3</th>\n      <td>App Store</td>\n      <td>5c66fe2c-59ce-4a6f-b8c0-6f84216f2f37</td>\n      <td>2022-03-26 10:21:53</td>\n      <td>None</td>\n      <td>From long term customer relationships with Riy...</td>\n      <td>5</td>\n      <td>abuaah0a</td>\n      <td>Best bank</td>\n      <td>None</td>\n      <td>None</td>\n      <td>ar</td>\n      <td>sa</td>\n    </tr>\n    <tr>\n      <th>4</th>\n      <td>App Store</td>\n      <td>3db7c057-bad4-40f1-a850-0e819637bff1</td>\n      <td>2019-09-23 20:54:57</td>\n      <td>None</td>\n      <td>Performance is much better than before. It’s g...</td>\n      <td>5</td>\n      <td>Doctor.Zeyad</td>\n      <td>Good performance</td>\n      <td>None</td>\n      <td>None</td>\n      <td>ar</td>\n      <td>sa</td>\n    </tr>\n    <tr>\n      <th>...</th>\n      <td>...</td>\n      <td>...</td>\n      <td>...</td>\n      <td>...</td>\n      <td>...</td>\n      <td>...</td>\n      <td>...</td>\n      <td>...</td>\n      <td>...</td>\n      <td>...</td>\n      <td>...</td>\n      <td>...</td>\n    </tr>\n    <tr>\n      <th>1626</th>\n      <td>App Store</td>\n      <td>8a42c1e8-ce8c-454f-82e1-6e7d9e81e218</td>\n      <td>2019-09-10 22:46:41</td>\n      <td>{'id': 10753977, 'body': 'Our apologies for th...</td>\n      <td>I can’t login failed incorrect username or pas...</td>\n      <td>5</td>\n      <td>walaalsafwani</td>\n      <td>Incorrect</td>\n      <td>None</td>\n      <td>None</td>\n      <td>ar</td>\n      <td>sa</td>\n    </tr>\n    <tr>\n      <th>1627</th>\n      <td>App Store</td>\n      <td>69139099-c5b7-4fba-9f5e-1ade2f8b088b</td>\n      <td>2019-04-29 06:44:13</td>\n      <td>{'id': 15930683, 'body': 'Dear Eman, kindly up...</td>\n      <td>I faced problem every time I logged in takes t...</td>\n      <td>5</td>\n      <td>eman1-1</td>\n      <td>Great appearance</td>\n      <td>None</td>\n      <td>None</td>\n      <td>ar</td>\n      <td>sa</td>\n    </tr>\n    <tr>\n      <th>1628</th>\n      <td>App Store</td>\n      <td>0de545cc-a7d8-45a2-845a-e44be15d7d4b</td>\n      <td>2019-06-09 21:41:43</td>\n      <td>None</td>\n      <td>Finger print not working \\nPIN is requested ev...</td>\n      <td>1</td>\n      <td>geniusking200</td>\n      <td>Lots of bugs</td>\n      <td>None</td>\n      <td>None</td>\n      <td>ar</td>\n      <td>sa</td>\n    </tr>\n    <tr>\n      <th>1629</th>\n      <td>App Store</td>\n      <td>83612a02-5b9d-4a50-a8ca-e07e6ced68e7</td>\n      <td>2019-06-02 12:10:17</td>\n      <td>None</td>\n      <td>With the latest update, the app is not working...</td>\n      <td>2</td>\n      <td>Sharaf Hussain</td>\n      <td>It is not working properly</td>\n      <td>None</td>\n      <td>None</td>\n      <td>ar</td>\n      <td>sa</td>\n    </tr>\n    <tr>\n      <th>1630</th>\n      <td>App Store</td>\n      <td>6a325028-fde6-4481-ab43-dc957f00550c</td>\n      <td>2019-04-24 15:11:07</td>\n      <td>None</td>\n      <td>👍🏽👍🏽👍🏽👍🏽👍🏽</td>\n      <td>4</td>\n      <td>abomahammed</td>\n      <td>👍🏽👍🏽👍🏽👍🏽</td>\n      <td>None</td>\n      <td>None</td>\n      <td>ar</td>\n      <td>sa</td>\n    </tr>\n  </tbody>\n</table>\n<p>1631 rows × 12 columns</p>\n</div>"
                    },
                    "metadata": {},
                    "execution_count": 8,
                    "output_type": "execute_result"
                }
            ],
            "execution_count": 8
        },
        {
            "cell_type": "code",
            "source": [
                "result = pd.concat([g_df2,a_df2])\r\n",
                "result\r\n",
                ""
            ],
            "metadata": {
                "azdata_cell_guid": "04d4d485-a1fc-46d6-9d29-cf8c8b732eaa",
                "language": "python"
            },
            "outputs": [
                {
                    "data": {
                        "text/plain": "           source                             review_id       user_name  \\\n0     Google Play  3f650d64-3d8a-4fca-abec-60200a0fde83     عايض البقمي   \n1     Google Play  fbdbaf50-fd00-4ea6-82f4-7465bf93f037       احمد كعبي   \n2     Google Play  fd1f3d9f-927b-487b-b3a5-7e3893acc400       meemaa 88   \n3     Google Play  392a63b4-cda3-4383-bf0a-a636d55f8276   ماجد الأركاني   \n4     Google Play  e591546d-7df5-4cd1-8fb0-49b63b3d6dba       ناصر عبيد   \n...           ...                                   ...             ...   \n1626    App Store  8a42c1e8-ce8c-454f-82e1-6e7d9e81e218   walaalsafwani   \n1627    App Store  69139099-c5b7-4fba-9f5e-1ade2f8b088b         eman1-1   \n1628    App Store  0de545cc-a7d8-45a2-845a-e44be15d7d4b   geniusking200   \n1629    App Store  83612a02-5b9d-4a50-a8ca-e07e6ced68e7  Sharaf Hussain   \n1630    App Store  6a325028-fde6-4481-ab43-dc957f00550c     abomahammed   \n\n                    review_title  \\\n0                           None   \n1                           None   \n2                           None   \n3                           None   \n4                           None   \n...                          ...   \n1626                   Incorrect   \n1627            Great appearance   \n1628                Lots of bugs   \n1629  It is not working properly   \n1630                    👍🏽👍🏽👍🏽👍🏽   \n\n                                     review_description  rating thumbs_up  \\\n0                                                   جيد       5         0   \n1     تطبيق فاشل لايحفظ اسم المستخدم ولا استطيع تفعي...       1         0   \n2                    تطبيق من سيء الى اسوأ بعد كل تحديث       1         0   \n3                        انحلت المشكلة رحت الفرع وانحلت       1         0   \n4                                              جيد جداً       5         0   \n...                                                 ...     ...       ...   \n1626  I can’t login failed incorrect username or pas...       5      None   \n1627  I faced problem every time I logged in takes t...       5      None   \n1628  Finger print not working \\nPIN is requested ev...       1      None   \n1629  With the latest update, the app is not working...       2      None   \n1630                                         👍🏽👍🏽👍🏽👍🏽👍🏽       4      None   \n\n             review_date                                 developer_response  \\\n0    2023-01-01 15:09:18                                               None   \n1    2022-12-31 19:11:18                                               None   \n2    2022-12-31 19:08:07                                               None   \n3    2022-12-31 09:15:03  عميلنا العزيز، نأمل منك تزويدنا بالملاحظة التي...   \n4    2022-12-29 12:26:26                                               None   \n...                  ...                                                ...   \n1626 2019-09-10 22:46:41  {'id': 10753977, 'body': 'Our apologies for th...   \n1627 2019-04-29 06:44:13  {'id': 15930683, 'body': 'Dear Eman, kindly up...   \n1628 2019-06-09 21:41:43                                               None   \n1629 2019-06-02 12:10:17                                               None   \n1630 2019-04-24 15:11:07                                               None   \n\n     developer_response_date laguage_code country_code  \n0                        NaT           en           us  \n1                        NaT           en           us  \n2                        NaT           en           us  \n3        2022-12-31 06:57:19           en           us  \n4                        NaT           en           us  \n...                      ...          ...          ...  \n1626                     NaT           ar           sa  \n1627                     NaT           ar           sa  \n1628                     NaT           ar           sa  \n1629                     NaT           ar           sa  \n1630                     NaT           ar           sa  \n\n[17588 rows x 12 columns]",
                        "text/html": "<div>\n<style scoped>\n    .dataframe tbody tr th:only-of-type {\n        vertical-align: middle;\n    }\n\n    .dataframe tbody tr th {\n        vertical-align: top;\n    }\n\n    .dataframe thead th {\n        text-align: right;\n    }\n</style>\n<table border=\"1\" class=\"dataframe\">\n  <thead>\n    <tr style=\"text-align: right;\">\n      <th></th>\n      <th>source</th>\n      <th>review_id</th>\n      <th>user_name</th>\n      <th>review_title</th>\n      <th>review_description</th>\n      <th>rating</th>\n      <th>thumbs_up</th>\n      <th>review_date</th>\n      <th>developer_response</th>\n      <th>developer_response_date</th>\n      <th>laguage_code</th>\n      <th>country_code</th>\n    </tr>\n  </thead>\n  <tbody>\n    <tr>\n      <th>0</th>\n      <td>Google Play</td>\n      <td>3f650d64-3d8a-4fca-abec-60200a0fde83</td>\n      <td>عايض البقمي</td>\n      <td>None</td>\n      <td>جيد</td>\n      <td>5</td>\n      <td>0</td>\n      <td>2023-01-01 15:09:18</td>\n      <td>None</td>\n      <td>NaT</td>\n      <td>en</td>\n      <td>us</td>\n    </tr>\n    <tr>\n      <th>1</th>\n      <td>Google Play</td>\n      <td>fbdbaf50-fd00-4ea6-82f4-7465bf93f037</td>\n      <td>احمد كعبي</td>\n      <td>None</td>\n      <td>تطبيق فاشل لايحفظ اسم المستخدم ولا استطيع تفعي...</td>\n      <td>1</td>\n      <td>0</td>\n      <td>2022-12-31 19:11:18</td>\n      <td>None</td>\n      <td>NaT</td>\n      <td>en</td>\n      <td>us</td>\n    </tr>\n    <tr>\n      <th>2</th>\n      <td>Google Play</td>\n      <td>fd1f3d9f-927b-487b-b3a5-7e3893acc400</td>\n      <td>meemaa 88</td>\n      <td>None</td>\n      <td>تطبيق من سيء الى اسوأ بعد كل تحديث</td>\n      <td>1</td>\n      <td>0</td>\n      <td>2022-12-31 19:08:07</td>\n      <td>None</td>\n      <td>NaT</td>\n      <td>en</td>\n      <td>us</td>\n    </tr>\n    <tr>\n      <th>3</th>\n      <td>Google Play</td>\n      <td>392a63b4-cda3-4383-bf0a-a636d55f8276</td>\n      <td>ماجد الأركاني</td>\n      <td>None</td>\n      <td>انحلت المشكلة رحت الفرع وانحلت</td>\n      <td>1</td>\n      <td>0</td>\n      <td>2022-12-31 09:15:03</td>\n      <td>عميلنا العزيز، نأمل منك تزويدنا بالملاحظة التي...</td>\n      <td>2022-12-31 06:57:19</td>\n      <td>en</td>\n      <td>us</td>\n    </tr>\n    <tr>\n      <th>4</th>\n      <td>Google Play</td>\n      <td>e591546d-7df5-4cd1-8fb0-49b63b3d6dba</td>\n      <td>ناصر عبيد</td>\n      <td>None</td>\n      <td>جيد جداً</td>\n      <td>5</td>\n      <td>0</td>\n      <td>2022-12-29 12:26:26</td>\n      <td>None</td>\n      <td>NaT</td>\n      <td>en</td>\n      <td>us</td>\n    </tr>\n    <tr>\n      <th>...</th>\n      <td>...</td>\n      <td>...</td>\n      <td>...</td>\n      <td>...</td>\n      <td>...</td>\n      <td>...</td>\n      <td>...</td>\n      <td>...</td>\n      <td>...</td>\n      <td>...</td>\n      <td>...</td>\n      <td>...</td>\n    </tr>\n    <tr>\n      <th>1626</th>\n      <td>App Store</td>\n      <td>8a42c1e8-ce8c-454f-82e1-6e7d9e81e218</td>\n      <td>walaalsafwani</td>\n      <td>Incorrect</td>\n      <td>I can’t login failed incorrect username or pas...</td>\n      <td>5</td>\n      <td>None</td>\n      <td>2019-09-10 22:46:41</td>\n      <td>{'id': 10753977, 'body': 'Our apologies for th...</td>\n      <td>NaT</td>\n      <td>ar</td>\n      <td>sa</td>\n    </tr>\n    <tr>\n      <th>1627</th>\n      <td>App Store</td>\n      <td>69139099-c5b7-4fba-9f5e-1ade2f8b088b</td>\n      <td>eman1-1</td>\n      <td>Great appearance</td>\n      <td>I faced problem every time I logged in takes t...</td>\n      <td>5</td>\n      <td>None</td>\n      <td>2019-04-29 06:44:13</td>\n      <td>{'id': 15930683, 'body': 'Dear Eman, kindly up...</td>\n      <td>NaT</td>\n      <td>ar</td>\n      <td>sa</td>\n    </tr>\n    <tr>\n      <th>1628</th>\n      <td>App Store</td>\n      <td>0de545cc-a7d8-45a2-845a-e44be15d7d4b</td>\n      <td>geniusking200</td>\n      <td>Lots of bugs</td>\n      <td>Finger print not working \\nPIN is requested ev...</td>\n      <td>1</td>\n      <td>None</td>\n      <td>2019-06-09 21:41:43</td>\n      <td>None</td>\n      <td>NaT</td>\n      <td>ar</td>\n      <td>sa</td>\n    </tr>\n    <tr>\n      <th>1629</th>\n      <td>App Store</td>\n      <td>83612a02-5b9d-4a50-a8ca-e07e6ced68e7</td>\n      <td>Sharaf Hussain</td>\n      <td>It is not working properly</td>\n      <td>With the latest update, the app is not working...</td>\n      <td>2</td>\n      <td>None</td>\n      <td>2019-06-02 12:10:17</td>\n      <td>None</td>\n      <td>NaT</td>\n      <td>ar</td>\n      <td>sa</td>\n    </tr>\n    <tr>\n      <th>1630</th>\n      <td>App Store</td>\n      <td>6a325028-fde6-4481-ab43-dc957f00550c</td>\n      <td>abomahammed</td>\n      <td>👍🏽👍🏽👍🏽👍🏽</td>\n      <td>👍🏽👍🏽👍🏽👍🏽👍🏽</td>\n      <td>4</td>\n      <td>None</td>\n      <td>2019-04-24 15:11:07</td>\n      <td>None</td>\n      <td>NaT</td>\n      <td>ar</td>\n      <td>sa</td>\n    </tr>\n  </tbody>\n</table>\n<p>17588 rows × 12 columns</p>\n</div>"
                    },
                    "metadata": {},
                    "execution_count": 14,
                    "output_type": "execute_result"
                }
            ],
            "execution_count": 14
        },
        {
            "cell_type": "code",
            "source": [
                "result.to_excel(r'C:\\Users\\Mohammed\\OneDrive\\Desktop\\export_dataframe.xlsx', index=False)\r\n",
                "#writer = pd.ExcelWriter('output.xlsx')\r\n",
                "result.to_excel(writer)\r\n",
                "writer.save()"
            ],
            "metadata": {
                "azdata_cell_guid": "228c1b91-7281-4b30-9d9e-14b52ba042d4",
                "language": "python"
            },
            "outputs": [
                {
                    "name": "stderr",
                    "text": "C:\\Users\\Mohammed\\AppData\\Local\\Temp\\ipykernel_10160\\3746617955.py:4: FutureWarning: save is not part of the public API, usage can give unexpected results and will be removed in a future version\n  writer.save()\n",
                    "output_type": "stream"
                }
            ],
            "execution_count": 36
        }
    ]
}