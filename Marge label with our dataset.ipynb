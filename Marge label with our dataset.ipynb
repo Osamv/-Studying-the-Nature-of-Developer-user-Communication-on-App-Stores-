{
 "cells": [
  {
   "cell_type": "code",
   "execution_count": 1,
   "id": "a3588f28",
   "metadata": {},
   "outputs": [],
   "source": [
    "import pandas as pd\n",
    "import numpy as np"
   ]
  },
  {
   "cell_type": "code",
   "execution_count": 2,
   "id": "ec91a800",
   "metadata": {},
   "outputs": [],
   "source": [
    "df = pd.read_csv(\"data_cleaning.csv\")"
   ]
  },
  {
   "cell_type": "code",
   "execution_count": 3,
   "id": "84edcee7",
   "metadata": {},
   "outputs": [
    {
     "data": {
      "text/html": [
       "<div>\n",
       "<style scoped>\n",
       "    .dataframe tbody tr th:only-of-type {\n",
       "        vertical-align: middle;\n",
       "    }\n",
       "\n",
       "    .dataframe tbody tr th {\n",
       "        vertical-align: top;\n",
       "    }\n",
       "\n",
       "    .dataframe thead th {\n",
       "        text-align: right;\n",
       "    }\n",
       "</style>\n",
       "<table border=\"1\" class=\"dataframe\">\n",
       "  <thead>\n",
       "    <tr style=\"text-align: right;\">\n",
       "      <th></th>\n",
       "      <th>source</th>\n",
       "      <th>review_id</th>\n",
       "      <th>user_name</th>\n",
       "      <th>review_description</th>\n",
       "      <th>rating</th>\n",
       "      <th>review_date</th>\n",
       "      <th>developer_response</th>\n",
       "      <th>developer_response_date</th>\n",
       "    </tr>\n",
       "  </thead>\n",
       "  <tbody>\n",
       "    <tr>\n",
       "      <th>0</th>\n",
       "      <td>Google Play</td>\n",
       "      <td>d855686a-7ebe-4cef-911f-3d124bc2d61a</td>\n",
       "      <td>‫عمرو محمد (داود)‬‎</td>\n",
       "      <td>very good</td>\n",
       "      <td>5</td>\n",
       "      <td>2023-01-04 15:47:27</td>\n",
       "      <td>We sincerely thank you for taking the time to ...</td>\n",
       "      <td>2023-01-04 21:06:38</td>\n",
       "    </tr>\n",
       "    <tr>\n",
       "      <th>1</th>\n",
       "      <td>Google Play</td>\n",
       "      <td>0491e3b8-c262-4ef3-ab74-4a962a7a28ee</td>\n",
       "      <td>Moath Tobasi</td>\n",
       "      <td>ارمكس برنامج ممتاز لا يوجد اي تعليق المواعيد ف...</td>\n",
       "      <td>5</td>\n",
       "      <td>2023-01-04 15:46:03</td>\n",
       "      <td>سعيدين بخدمتك وشكرا لتقيمك نتطلع لخدمتك مستقبلا</td>\n",
       "      <td>2023-01-04 15:12:31</td>\n",
       "    </tr>\n",
       "    <tr>\n",
       "      <th>2</th>\n",
       "      <td>Google Play</td>\n",
       "      <td>0b537bf6-2dc3-4d4b-b239-6e6b916eaadc</td>\n",
       "      <td>Mohamed Mohamedy</td>\n",
       "      <td>فوق الممتاز</td>\n",
       "      <td>5</td>\n",
       "      <td>2023-01-04 14:07:14</td>\n",
       "      <td>سعيدين بخدمتك وشكرا لتقيمك نتطلع لخدمتك مستقبلا</td>\n",
       "      <td>2023-01-04 19:51:33</td>\n",
       "    </tr>\n",
       "    <tr>\n",
       "      <th>3</th>\n",
       "      <td>Google Play</td>\n",
       "      <td>5e50884e-e69a-4d05-8ae3-0b0aea7f278c</td>\n",
       "      <td>temoo tamam</td>\n",
       "      <td>خدمة سيئة جدا وعدم الالتزام بمواعيد التسليم وخ...</td>\n",
       "      <td>1</td>\n",
       "      <td>2023-01-04 13:52:23</td>\n",
       "      <td>مرحبا عذرا منك علي ذلك !  نود الحصول علي تفاصي...</td>\n",
       "      <td>2023-01-04 19:30:51</td>\n",
       "    </tr>\n",
       "    <tr>\n",
       "      <th>4</th>\n",
       "      <td>Google Play</td>\n",
       "      <td>c29dbb95-8dfa-4918-94ca-5e124d405930</td>\n",
       "      <td>tufool mab</td>\n",
       "      <td>شكرا على حسن تعاونكم معنا</td>\n",
       "      <td>5</td>\n",
       "      <td>2023-01-04 06:42:33</td>\n",
       "      <td>يسرنا سماع ذلك ونتمني ان نكون عند حسن ظنك دائم...</td>\n",
       "      <td>2023-01-04 15:50:52</td>\n",
       "    </tr>\n",
       "  </tbody>\n",
       "</table>\n",
       "</div>"
      ],
      "text/plain": [
       "        source                             review_id            user_name  \\\n",
       "0  Google Play  d855686a-7ebe-4cef-911f-3d124bc2d61a  ‫عمرو محمد (داود)‬‎   \n",
       "1  Google Play  0491e3b8-c262-4ef3-ab74-4a962a7a28ee         Moath Tobasi   \n",
       "2  Google Play  0b537bf6-2dc3-4d4b-b239-6e6b916eaadc     Mohamed Mohamedy   \n",
       "3  Google Play  5e50884e-e69a-4d05-8ae3-0b0aea7f278c          temoo tamam   \n",
       "4  Google Play  c29dbb95-8dfa-4918-94ca-5e124d405930           tufool mab   \n",
       "\n",
       "                                  review_description  rating  \\\n",
       "0                                          very good       5   \n",
       "1  ارمكس برنامج ممتاز لا يوجد اي تعليق المواعيد ف...       5   \n",
       "2                                        فوق الممتاز       5   \n",
       "3  خدمة سيئة جدا وعدم الالتزام بمواعيد التسليم وخ...       1   \n",
       "4                          شكرا على حسن تعاونكم معنا       5   \n",
       "\n",
       "           review_date                                 developer_response  \\\n",
       "0  2023-01-04 15:47:27  We sincerely thank you for taking the time to ...   \n",
       "1  2023-01-04 15:46:03    سعيدين بخدمتك وشكرا لتقيمك نتطلع لخدمتك مستقبلا   \n",
       "2  2023-01-04 14:07:14    سعيدين بخدمتك وشكرا لتقيمك نتطلع لخدمتك مستقبلا   \n",
       "3  2023-01-04 13:52:23  مرحبا عذرا منك علي ذلك !  نود الحصول علي تفاصي...   \n",
       "4  2023-01-04 06:42:33  يسرنا سماع ذلك ونتمني ان نكون عند حسن ظنك دائم...   \n",
       "\n",
       "  developer_response_date  \n",
       "0     2023-01-04 21:06:38  \n",
       "1     2023-01-04 15:12:31  \n",
       "2     2023-01-04 19:51:33  \n",
       "3     2023-01-04 19:30:51  \n",
       "4     2023-01-04 15:50:52  "
      ]
     },
     "execution_count": 3,
     "metadata": {},
     "output_type": "execute_result"
    }
   ],
   "source": [
    "df.head()"
   ]
  },
  {
   "cell_type": "code",
   "execution_count": 4,
   "id": "55ef07f1",
   "metadata": {},
   "outputs": [
    {
     "data": {
      "text/plain": [
       "(283835, 8)"
      ]
     },
     "execution_count": 4,
     "metadata": {},
     "output_type": "execute_result"
    }
   ],
   "source": [
    "df.shape"
   ]
  },
  {
   "cell_type": "code",
   "execution_count": 5,
   "id": "2829f8e2",
   "metadata": {},
   "outputs": [
    {
     "data": {
      "text/plain": [
       "source                     0\n",
       "review_id                  0\n",
       "user_name                  0\n",
       "review_description         0\n",
       "rating                     0\n",
       "review_date                0\n",
       "developer_response         0\n",
       "developer_response_date    0\n",
       "dtype: int64"
      ]
     },
     "execution_count": 5,
     "metadata": {},
     "output_type": "execute_result"
    }
   ],
   "source": [
    "# check missing values\n",
    "df.isna().sum()"
   ]
  },
  {
   "cell_type": "code",
   "execution_count": 6,
   "id": "10df1dfa",
   "metadata": {},
   "outputs": [
    {
     "data": {
      "text/plain": [
       "['We sincerely thank you for taking the time to rate us',\n",
       " 'سعيدين بخدمتك وشكرا لتقيمك نتطلع لخدمتك مستقبلا',\n",
       " 'سعيدين بخدمتك وشكرا لتقيمك نتطلع لخدمتك مستقبلا',\n",
       " 'مرحبا عذرا منك علي ذلك !  نود الحصول علي تفاصيل اكثر للتحقق يرجي تزويدنا بتفاصيل ما حصل علي الرابط التالي للنظر في الامر GlobalCareCenter@aramexcom',\n",
       " 'يسرنا سماع ذلك ونتمني ان نكون عند حسن ظنك دائما وان نقدم خدمه تليق بكم شكرا جزيلا',\n",
       " 'مرحبا محمد عذرا منك علي ذلك !  نود الحصول علي تفاصيل اكثر للتحقق يرجي تزويدنا بتفاصيل ما حصل علي الرابط التالي للنظر في الامر GlobalCareCenter@aramexcom',\n",
       " 'مرحبا يسعدنا سماع ذلك وهدفنا الاول ارضاؤكم شكرا',\n",
       " 'مرحبا اشرف يسرنا سماع ذلك ونتمني ان نكون عند حسن ظنك دائما وان نقدم خدمه تليق بكم شكرا جزيلا',\n",
       " 'مرحبا عمار يسرنا سماع ذلك ونتمني ان نكون عند حسن ظنك دائما وان نقدم خدمه تليق بكم شكرا جزيلا',\n",
       " 'مرحبا توم يسرنا سماع ذلك ونتمني ان نكون عند حسن ظنك دائما وان نقدم خدمه تليق بكم شكرا جزيلا']"
      ]
     },
     "execution_count": 6,
     "metadata": {},
     "output_type": "execute_result"
    }
   ],
   "source": [
    "# create a list text\n",
    "text = list(df['developer_response'])\n",
    "text [:10]"
   ]
  },
  {
   "cell_type": "code",
   "execution_count": 7,
   "id": "0a2fc6ba",
   "metadata": {},
   "outputs": [
    {
     "name": "stdout",
     "output_type": "stream",
     "text": [
      "283835\n"
     ]
    }
   ],
   "source": [
    "#search for frequencies sentnecte and count to map\n",
    "mp = dict()\n",
    "\n",
    "def count(arr, n):    \n",
    "    # Traverse through array elements\n",
    "    # and count frequencies\n",
    "    for i in range(n):\n",
    "        if arr[i] in mp.keys():\n",
    "            mp[arr[i]] += 1\n",
    "        else:\n",
    "            mp[arr[i]] = 1\n",
    "\n",
    "n = len(text) \n",
    "print (n)\n",
    "count(text, n)"
   ]
  },
  {
   "cell_type": "code",
   "execution_count": 8,
   "id": "df4de6e8",
   "metadata": {},
   "outputs": [
    {
     "data": {
      "text/html": [
       "<div>\n",
       "<style scoped>\n",
       "    .dataframe tbody tr th:only-of-type {\n",
       "        vertical-align: middle;\n",
       "    }\n",
       "\n",
       "    .dataframe tbody tr th {\n",
       "        vertical-align: top;\n",
       "    }\n",
       "\n",
       "    .dataframe thead th {\n",
       "        text-align: right;\n",
       "    }\n",
       "</style>\n",
       "<table border=\"1\" class=\"dataframe\">\n",
       "  <thead>\n",
       "    <tr style=\"text-align: right;\">\n",
       "      <th></th>\n",
       "      <th>developer_response</th>\n",
       "      <th>Count</th>\n",
       "    </tr>\n",
       "  </thead>\n",
       "  <tbody>\n",
       "    <tr>\n",
       "      <th>0</th>\n",
       "      <td>We sincerely thank you for taking the time to ...</td>\n",
       "      <td>1</td>\n",
       "    </tr>\n",
       "    <tr>\n",
       "      <th>1</th>\n",
       "      <td>سعيدين بخدمتك وشكرا لتقيمك نتطلع لخدمتك مستقبلا</td>\n",
       "      <td>3</td>\n",
       "    </tr>\n",
       "    <tr>\n",
       "      <th>2</th>\n",
       "      <td>مرحبا عذرا منك علي ذلك !  نود الحصول علي تفاصي...</td>\n",
       "      <td>4</td>\n",
       "    </tr>\n",
       "    <tr>\n",
       "      <th>3</th>\n",
       "      <td>يسرنا سماع ذلك ونتمني ان نكون عند حسن ظنك دائم...</td>\n",
       "      <td>2</td>\n",
       "    </tr>\n",
       "    <tr>\n",
       "      <th>4</th>\n",
       "      <td>مرحبا محمد عذرا منك علي ذلك !  نود الحصول علي ...</td>\n",
       "      <td>3</td>\n",
       "    </tr>\n",
       "  </tbody>\n",
       "</table>\n",
       "</div>"
      ],
      "text/plain": [
       "                                  developer_response  Count\n",
       "0  We sincerely thank you for taking the time to ...      1\n",
       "1    سعيدين بخدمتك وشكرا لتقيمك نتطلع لخدمتك مستقبلا      3\n",
       "2  مرحبا عذرا منك علي ذلك !  نود الحصول علي تفاصي...      4\n",
       "3  يسرنا سماع ذلك ونتمني ان نكون عند حسن ظنك دائم...      2\n",
       "4  مرحبا محمد عذرا منك علي ذلك !  نود الحصول علي ...      3"
      ]
     },
     "execution_count": 8,
     "metadata": {},
     "output_type": "execute_result"
    }
   ],
   "source": [
    "df_search = pd.DataFrame(mp.items(), columns=['developer_response', 'Count'])\n",
    "df_search.head()"
   ]
  },
  {
   "cell_type": "code",
   "execution_count": 9,
   "id": "ad896b14",
   "metadata": {},
   "outputs": [
    {
     "data": {
      "text/html": [
       "<div>\n",
       "<style scoped>\n",
       "    .dataframe tbody tr th:only-of-type {\n",
       "        vertical-align: middle;\n",
       "    }\n",
       "\n",
       "    .dataframe tbody tr th {\n",
       "        vertical-align: top;\n",
       "    }\n",
       "\n",
       "    .dataframe thead th {\n",
       "        text-align: right;\n",
       "    }\n",
       "</style>\n",
       "<table border=\"1\" class=\"dataframe\">\n",
       "  <thead>\n",
       "    <tr style=\"text-align: right;\">\n",
       "      <th></th>\n",
       "      <th>developer_response</th>\n",
       "      <th>Count</th>\n",
       "    </tr>\n",
       "  </thead>\n",
       "  <tbody>\n",
       "    <tr>\n",
       "      <th>1</th>\n",
       "      <td>سعيدين بخدمتك وشكرا لتقيمك نتطلع لخدمتك مستقبلا</td>\n",
       "      <td>3</td>\n",
       "    </tr>\n",
       "    <tr>\n",
       "      <th>2</th>\n",
       "      <td>مرحبا عذرا منك علي ذلك !  نود الحصول علي تفاصي...</td>\n",
       "      <td>4</td>\n",
       "    </tr>\n",
       "    <tr>\n",
       "      <th>3</th>\n",
       "      <td>يسرنا سماع ذلك ونتمني ان نكون عند حسن ظنك دائم...</td>\n",
       "      <td>2</td>\n",
       "    </tr>\n",
       "    <tr>\n",
       "      <th>4</th>\n",
       "      <td>مرحبا محمد عذرا منك علي ذلك !  نود الحصول علي ...</td>\n",
       "      <td>3</td>\n",
       "    </tr>\n",
       "    <tr>\n",
       "      <th>9</th>\n",
       "      <td>مرحبا سعدنا بخدمتك !  نقدر لك وقتك لمشاركه تجر...</td>\n",
       "      <td>229</td>\n",
       "    </tr>\n",
       "    <tr>\n",
       "      <th>10</th>\n",
       "      <td>شكرا !  يسعدنا سماع ذلك</td>\n",
       "      <td>100</td>\n",
       "    </tr>\n",
       "    <tr>\n",
       "      <th>11</th>\n",
       "      <td>مرحبا امل شكرا !  يسعدنا سماع ذلك</td>\n",
       "      <td>2</td>\n",
       "    </tr>\n",
       "    <tr>\n",
       "      <th>12</th>\n",
       "      <td>يسعدنا سماع ذلك ودائما سعداء لخدمتك شكرا</td>\n",
       "      <td>3</td>\n",
       "    </tr>\n",
       "    <tr>\n",
       "      <th>13</th>\n",
       "      <td>We do appreciate your effort in taking out tim...</td>\n",
       "      <td>19</td>\n",
       "    </tr>\n",
       "    <tr>\n",
       "      <th>20</th>\n",
       "      <td>مرحبا فاديسعدنا بخدمتك !  نقدر لك وقتك لمشاركه...</td>\n",
       "      <td>2</td>\n",
       "    </tr>\n",
       "  </tbody>\n",
       "</table>\n",
       "</div>"
      ],
      "text/plain": [
       "                                   developer_response  Count\n",
       "1     سعيدين بخدمتك وشكرا لتقيمك نتطلع لخدمتك مستقبلا      3\n",
       "2   مرحبا عذرا منك علي ذلك !  نود الحصول علي تفاصي...      4\n",
       "3   يسرنا سماع ذلك ونتمني ان نكون عند حسن ظنك دائم...      2\n",
       "4   مرحبا محمد عذرا منك علي ذلك !  نود الحصول علي ...      3\n",
       "9   مرحبا سعدنا بخدمتك !  نقدر لك وقتك لمشاركه تجر...    229\n",
       "10                            شكرا !  يسعدنا سماع ذلك    100\n",
       "11                  مرحبا امل شكرا !  يسعدنا سماع ذلك      2\n",
       "12           يسعدنا سماع ذلك ودائما سعداء لخدمتك شكرا      3\n",
       "13  We do appreciate your effort in taking out tim...     19\n",
       "20  مرحبا فاديسعدنا بخدمتك !  نقدر لك وقتك لمشاركه...      2"
      ]
     },
     "execution_count": 9,
     "metadata": {},
     "output_type": "execute_result"
    }
   ],
   "source": [
    "#collect data that have frequencies bigger (1)\n",
    "df_search = df_search[df_search.Count != 1]\n",
    "df_search.head(10)"
   ]
  },
  {
   "cell_type": "code",
   "execution_count": 10,
   "id": "5608ee99",
   "metadata": {},
   "outputs": [],
   "source": [
    "# df_repeat = pd.read_csv(\"df_repeat.csv\")\n",
    "\n",
    "# print (df_repeat.shape)\n",
    "# df_repeat.head(10)"
   ]
  },
  {
   "cell_type": "code",
   "execution_count": 11,
   "id": "b0ce5fb9",
   "metadata": {},
   "outputs": [
    {
     "name": "stdout",
     "output_type": "stream",
     "text": [
      "(43566, 4)\n"
     ]
    },
    {
     "data": {
      "text/html": [
       "<div>\n",
       "<style scoped>\n",
       "    .dataframe tbody tr th:only-of-type {\n",
       "        vertical-align: middle;\n",
       "    }\n",
       "\n",
       "    .dataframe tbody tr th {\n",
       "        vertical-align: top;\n",
       "    }\n",
       "\n",
       "    .dataframe thead th {\n",
       "        text-align: right;\n",
       "    }\n",
       "</style>\n",
       "<table border=\"1\" class=\"dataframe\">\n",
       "  <thead>\n",
       "    <tr style=\"text-align: right;\">\n",
       "      <th></th>\n",
       "      <th>developer_response</th>\n",
       "      <th>Count</th>\n",
       "      <th>label</th>\n",
       "      <th>sim_value</th>\n",
       "    </tr>\n",
       "  </thead>\n",
       "  <tbody>\n",
       "    <tr>\n",
       "      <th>0</th>\n",
       "      <td>We sincerely thank you for taking the time to ...</td>\n",
       "      <td>1</td>\n",
       "      <td>Custom</td>\n",
       "      <td>0.72</td>\n",
       "    </tr>\n",
       "    <tr>\n",
       "      <th>1</th>\n",
       "      <td>مرحبا يسعدنا سماع ذلك وهدفنا الاول ارضاؤكم شكرا</td>\n",
       "      <td>1</td>\n",
       "      <td>Custom</td>\n",
       "      <td>0.85</td>\n",
       "    </tr>\n",
       "    <tr>\n",
       "      <th>2</th>\n",
       "      <td>مرحبا اشرف يسرنا سماع ذلك ونتمني ان نكون عند ح...</td>\n",
       "      <td>1</td>\n",
       "      <td>Generic</td>\n",
       "      <td>0.95</td>\n",
       "    </tr>\n",
       "    <tr>\n",
       "      <th>3</th>\n",
       "      <td>مرحبا عمار يسرنا سماع ذلك ونتمني ان نكون عند ح...</td>\n",
       "      <td>1</td>\n",
       "      <td>Generic</td>\n",
       "      <td>0.95</td>\n",
       "    </tr>\n",
       "    <tr>\n",
       "      <th>4</th>\n",
       "      <td>مرحبا توم يسرنا سماع ذلك ونتمني ان نكون عند حس...</td>\n",
       "      <td>1</td>\n",
       "      <td>Generic</td>\n",
       "      <td>0.97</td>\n",
       "    </tr>\n",
       "    <tr>\n",
       "      <th>5</th>\n",
       "      <td>مرحبا عبدالعزيز يسعدنا سماع ذلك وهدفنا الاول ا...</td>\n",
       "      <td>1</td>\n",
       "      <td>Custom</td>\n",
       "      <td>0.79</td>\n",
       "    </tr>\n",
       "    <tr>\n",
       "      <th>6</th>\n",
       "      <td>مرحبا مدثر يسعدنا سماع ذلك وهدفنا الاول ارضاؤك...</td>\n",
       "      <td>1</td>\n",
       "      <td>Custom</td>\n",
       "      <td>0.85</td>\n",
       "    </tr>\n",
       "    <tr>\n",
       "      <th>7</th>\n",
       "      <td>مرحبا ميسر يسعدنا سماع ذلك وهدفنا الاول ارضاؤك...</td>\n",
       "      <td>1</td>\n",
       "      <td>Custom</td>\n",
       "      <td>0.85</td>\n",
       "    </tr>\n",
       "    <tr>\n",
       "      <th>8</th>\n",
       "      <td>مرحبا محمد يسعدنا سماع ذلك وهدفنا الاول ارضاؤك...</td>\n",
       "      <td>1</td>\n",
       "      <td>Custom</td>\n",
       "      <td>0.87</td>\n",
       "    </tr>\n",
       "    <tr>\n",
       "      <th>9</th>\n",
       "      <td>مرحبا قتيبه سعدنا بخدمتك !  نقدر لك وقتك لمشار...</td>\n",
       "      <td>1</td>\n",
       "      <td>Generic</td>\n",
       "      <td>1.00</td>\n",
       "    </tr>\n",
       "  </tbody>\n",
       "</table>\n",
       "</div>"
      ],
      "text/plain": [
       "                                  developer_response  Count    label  \\\n",
       "0  We sincerely thank you for taking the time to ...      1   Custom   \n",
       "1    مرحبا يسعدنا سماع ذلك وهدفنا الاول ارضاؤكم شكرا      1   Custom   \n",
       "2  مرحبا اشرف يسرنا سماع ذلك ونتمني ان نكون عند ح...      1  Generic   \n",
       "3  مرحبا عمار يسرنا سماع ذلك ونتمني ان نكون عند ح...      1  Generic   \n",
       "4  مرحبا توم يسرنا سماع ذلك ونتمني ان نكون عند حس...      1  Generic   \n",
       "5  مرحبا عبدالعزيز يسعدنا سماع ذلك وهدفنا الاول ا...      1   Custom   \n",
       "6  مرحبا مدثر يسعدنا سماع ذلك وهدفنا الاول ارضاؤك...      1   Custom   \n",
       "7  مرحبا ميسر يسعدنا سماع ذلك وهدفنا الاول ارضاؤك...      1   Custom   \n",
       "8  مرحبا محمد يسعدنا سماع ذلك وهدفنا الاول ارضاؤك...      1   Custom   \n",
       "9  مرحبا قتيبه سعدنا بخدمتك !  نقدر لك وقتك لمشار...      1  Generic   \n",
       "\n",
       "   sim_value  \n",
       "0       0.72  \n",
       "1       0.85  \n",
       "2       0.95  \n",
       "3       0.95  \n",
       "4       0.97  \n",
       "5       0.79  \n",
       "6       0.85  \n",
       "7       0.85  \n",
       "8       0.87  \n",
       "9       1.00  "
      ]
     },
     "execution_count": 11,
     "metadata": {},
     "output_type": "execute_result"
    }
   ],
   "source": [
    "df_not_repeat = pd.read_csv(\"data_labeling_custom.csv\")\n",
    "\n",
    "print (df_not_repeat.shape)\n",
    "df_not_repeat.head(10)"
   ]
  },
  {
   "cell_type": "code",
   "execution_count": 12,
   "id": "10ffa6dd",
   "metadata": {},
   "outputs": [
    {
     "data": {
      "text/plain": [
       "developer_response        0\n",
       "Count                     0\n",
       "label                     0\n",
       "sim_value             11970\n",
       "dtype: int64"
      ]
     },
     "execution_count": 12,
     "metadata": {},
     "output_type": "execute_result"
    }
   ],
   "source": [
    "# check missing values\n",
    "df_not_repeat.isna().sum()"
   ]
  },
  {
   "cell_type": "code",
   "execution_count": 13,
   "id": "13b88d7e",
   "metadata": {},
   "outputs": [
    {
     "data": {
      "text/plain": [
       "9190"
      ]
     },
     "execution_count": 13,
     "metadata": {},
     "output_type": "execute_result"
    }
   ],
   "source": [
    "#get  developer_response future to list repeart\n",
    "response_list = list(df_search['developer_response']) \n",
    "len(response_list)"
   ]
  },
  {
   "cell_type": "code",
   "execution_count": 14,
   "id": "2b0b5406",
   "metadata": {},
   "outputs": [
    {
     "data": {
      "text/plain": [
       "43566"
      ]
     },
     "execution_count": 14,
     "metadata": {},
     "output_type": "execute_result"
    }
   ],
   "source": [
    "#get developer_response future to list not repeart\n",
    "not_repeat_response = list(df_not_repeat['developer_response']) \n",
    "len(not_repeat_response)"
   ]
  },
  {
   "cell_type": "code",
   "execution_count": 15,
   "id": "41976d9d",
   "metadata": {},
   "outputs": [
    {
     "data": {
      "text/plain": [
       "43566"
      ]
     },
     "execution_count": 15,
     "metadata": {},
     "output_type": "execute_result"
    }
   ],
   "source": [
    "#Get label from cosine\n",
    "not_repeat_label = list(df_not_repeat['label']) \n",
    "len(not_repeat_label)"
   ]
  },
  {
   "cell_type": "code",
   "execution_count": 16,
   "id": "86613f31",
   "metadata": {},
   "outputs": [],
   "source": [
    "# def get_label(sentence): \n",
    "#     label = ''\n",
    "#     #print (sentence)\n",
    "#     df_search = df_not_repeat.loc[[df_not_repeat['developer_response'].eq(sentence).idxmax()],'label'].tolist()\n",
    "#     #print (df_search)\n",
    "#     label = df_search if df_search else \"Custom\"\n",
    "#     #print( label)\n",
    "#     return  label"
   ]
  },
  {
   "cell_type": "code",
   "execution_count": 17,
   "id": "58cf9898",
   "metadata": {},
   "outputs": [],
   "source": [
    "def get_label_2(sentence): \n",
    "    label = None\n",
    "    #print (sentence)\n",
    "    #df_search = df_not_repeat.loc[[df_not_repeat['developer_response'].eq(sentence).idxmax()],'label'].tolist()\n",
    "    #print (df_search)\n",
    "    #label = df_search if df_search else \"Custom\"\n",
    "    #print( label)\n",
    "    #return  label\n",
    "    \n",
    "    if sentence in not_repeat_response:               \n",
    "        index =  not_repeat_response.index(sentence)  \n",
    "        #print (\"index: \" , index)  \n",
    "        label = not_repeat_label[index]\n",
    "        \n",
    "        #label =  label if label else \"Custom\"\n",
    "        #print (\"label: \" , label)                                              \n",
    "        \n",
    "    return label"
   ]
  },
  {
   "cell_type": "code",
   "execution_count": 18,
   "id": "2303ea1c",
   "metadata": {
    "scrolled": true
   },
   "outputs": [],
   "source": [
    "label = []\n",
    "for i in range(0, len(df)):       \n",
    "    sentence= df.iloc[i]['developer_response']         \n",
    "    #print (i , sentence)\n",
    "#     if sentence in response_list:               \n",
    "#         label.append(\"Generic\")        \n",
    "#     else:\n",
    "#         #call function search label from data not repeat\n",
    "#         label.append( get_label(sentence))\n",
    "#         #label.append (\"Custom\")    \n",
    "#    label.append( get_label(sentence))    \n",
    "    if sentence in response_list:               \n",
    "        label.append(\"Generic\")        \n",
    "    else:\n",
    "        label.append(get_label_2(sentence))\n",
    "    \n",
    "#   df['label'] = label\n",
    "#     if i == 100 :\n",
    "#         break\n",
    "\n"
   ]
  },
  {
   "cell_type": "code",
   "execution_count": 19,
   "id": "593dd146",
   "metadata": {
    "scrolled": true
   },
   "outputs": [],
   "source": [
    "#label [:100]"
   ]
  },
  {
   "cell_type": "code",
   "execution_count": 20,
   "id": "50d81541",
   "metadata": {},
   "outputs": [
    {
     "name": "stdout",
     "output_type": "stream",
     "text": [
      "283835\n"
     ]
    },
    {
     "data": {
      "text/plain": [
       "{'Custom': 22498, 'Generic': 261337}"
      ]
     },
     "execution_count": 20,
     "metadata": {},
     "output_type": "execute_result"
    }
   ],
   "source": [
    "#search for frequencies sentnecte and count to map\n",
    "mp = dict()\n",
    "def count(arr, n):    \n",
    "    # Traverse through array elements\n",
    "    # and count frequencies\n",
    "    for i in range(n):\n",
    "        if arr[i] in mp.keys():\n",
    "            mp[arr[i]] += 1\n",
    "        else:\n",
    "            mp[arr[i]] = 1\n",
    "            \n",
    "n = len(label) \n",
    "print (n)\n",
    "count(label, n)\n",
    "mp"
   ]
  },
  {
   "cell_type": "code",
   "execution_count": 21,
   "id": "6e828784",
   "metadata": {},
   "outputs": [],
   "source": [
    "df['label'] = label"
   ]
  },
  {
   "cell_type": "code",
   "execution_count": 22,
   "id": "093b114a",
   "metadata": {},
   "outputs": [],
   "source": [
    "#save data to csv file\n",
    "df.to_csv(\"dataset_all_cleaning_labeling.csv\", encoding='utf-8-sig', index=False , header=True)"
   ]
  },
  {
   "cell_type": "code",
   "execution_count": null,
   "id": "86d21784",
   "metadata": {},
   "outputs": [],
   "source": []
  },
  {
   "cell_type": "code",
   "execution_count": 23,
   "id": "86525174",
   "metadata": {},
   "outputs": [],
   "source": [
    "def len_sentence (test_string):\n",
    "    return len(test_string.split())"
   ]
  },
  {
   "cell_type": "code",
   "execution_count": 24,
   "id": "0c951507",
   "metadata": {},
   "outputs": [],
   "source": [
    "df['d_r_word_count'] = df['developer_response'].apply(len_sentence)"
   ]
  },
  {
   "cell_type": "code",
   "execution_count": 25,
   "id": "742786f1",
   "metadata": {},
   "outputs": [
    {
     "data": {
      "text/html": [
       "<div>\n",
       "<style scoped>\n",
       "    .dataframe tbody tr th:only-of-type {\n",
       "        vertical-align: middle;\n",
       "    }\n",
       "\n",
       "    .dataframe tbody tr th {\n",
       "        vertical-align: top;\n",
       "    }\n",
       "\n",
       "    .dataframe thead th {\n",
       "        text-align: right;\n",
       "    }\n",
       "</style>\n",
       "<table border=\"1\" class=\"dataframe\">\n",
       "  <thead>\n",
       "    <tr style=\"text-align: right;\">\n",
       "      <th></th>\n",
       "      <th>source</th>\n",
       "      <th>review_id</th>\n",
       "      <th>user_name</th>\n",
       "      <th>review_description</th>\n",
       "      <th>rating</th>\n",
       "      <th>review_date</th>\n",
       "      <th>developer_response</th>\n",
       "      <th>developer_response_date</th>\n",
       "      <th>label</th>\n",
       "      <th>d_r_word_count</th>\n",
       "    </tr>\n",
       "  </thead>\n",
       "  <tbody>\n",
       "    <tr>\n",
       "      <th>0</th>\n",
       "      <td>Google Play</td>\n",
       "      <td>d855686a-7ebe-4cef-911f-3d124bc2d61a</td>\n",
       "      <td>‫عمرو محمد (داود)‬‎</td>\n",
       "      <td>very good</td>\n",
       "      <td>5</td>\n",
       "      <td>2023-01-04 15:47:27</td>\n",
       "      <td>We sincerely thank you for taking the time to ...</td>\n",
       "      <td>2023-01-04 21:06:38</td>\n",
       "      <td>Custom</td>\n",
       "      <td>11</td>\n",
       "    </tr>\n",
       "    <tr>\n",
       "      <th>1</th>\n",
       "      <td>Google Play</td>\n",
       "      <td>0491e3b8-c262-4ef3-ab74-4a962a7a28ee</td>\n",
       "      <td>Moath Tobasi</td>\n",
       "      <td>ارمكس برنامج ممتاز لا يوجد اي تعليق المواعيد ف...</td>\n",
       "      <td>5</td>\n",
       "      <td>2023-01-04 15:46:03</td>\n",
       "      <td>سعيدين بخدمتك وشكرا لتقيمك نتطلع لخدمتك مستقبلا</td>\n",
       "      <td>2023-01-04 15:12:31</td>\n",
       "      <td>Generic</td>\n",
       "      <td>7</td>\n",
       "    </tr>\n",
       "    <tr>\n",
       "      <th>2</th>\n",
       "      <td>Google Play</td>\n",
       "      <td>0b537bf6-2dc3-4d4b-b239-6e6b916eaadc</td>\n",
       "      <td>Mohamed Mohamedy</td>\n",
       "      <td>فوق الممتاز</td>\n",
       "      <td>5</td>\n",
       "      <td>2023-01-04 14:07:14</td>\n",
       "      <td>سعيدين بخدمتك وشكرا لتقيمك نتطلع لخدمتك مستقبلا</td>\n",
       "      <td>2023-01-04 19:51:33</td>\n",
       "      <td>Generic</td>\n",
       "      <td>7</td>\n",
       "    </tr>\n",
       "    <tr>\n",
       "      <th>3</th>\n",
       "      <td>Google Play</td>\n",
       "      <td>5e50884e-e69a-4d05-8ae3-0b0aea7f278c</td>\n",
       "      <td>temoo tamam</td>\n",
       "      <td>خدمة سيئة جدا وعدم الالتزام بمواعيد التسليم وخ...</td>\n",
       "      <td>1</td>\n",
       "      <td>2023-01-04 13:52:23</td>\n",
       "      <td>مرحبا عذرا منك علي ذلك !  نود الحصول علي تفاصي...</td>\n",
       "      <td>2023-01-04 19:30:51</td>\n",
       "      <td>Generic</td>\n",
       "      <td>24</td>\n",
       "    </tr>\n",
       "    <tr>\n",
       "      <th>4</th>\n",
       "      <td>Google Play</td>\n",
       "      <td>c29dbb95-8dfa-4918-94ca-5e124d405930</td>\n",
       "      <td>tufool mab</td>\n",
       "      <td>شكرا على حسن تعاونكم معنا</td>\n",
       "      <td>5</td>\n",
       "      <td>2023-01-04 06:42:33</td>\n",
       "      <td>يسرنا سماع ذلك ونتمني ان نكون عند حسن ظنك دائم...</td>\n",
       "      <td>2023-01-04 15:50:52</td>\n",
       "      <td>Generic</td>\n",
       "      <td>17</td>\n",
       "    </tr>\n",
       "  </tbody>\n",
       "</table>\n",
       "</div>"
      ],
      "text/plain": [
       "        source                             review_id            user_name  \\\n",
       "0  Google Play  d855686a-7ebe-4cef-911f-3d124bc2d61a  ‫عمرو محمد (داود)‬‎   \n",
       "1  Google Play  0491e3b8-c262-4ef3-ab74-4a962a7a28ee         Moath Tobasi   \n",
       "2  Google Play  0b537bf6-2dc3-4d4b-b239-6e6b916eaadc     Mohamed Mohamedy   \n",
       "3  Google Play  5e50884e-e69a-4d05-8ae3-0b0aea7f278c          temoo tamam   \n",
       "4  Google Play  c29dbb95-8dfa-4918-94ca-5e124d405930           tufool mab   \n",
       "\n",
       "                                  review_description  rating  \\\n",
       "0                                          very good       5   \n",
       "1  ارمكس برنامج ممتاز لا يوجد اي تعليق المواعيد ف...       5   \n",
       "2                                        فوق الممتاز       5   \n",
       "3  خدمة سيئة جدا وعدم الالتزام بمواعيد التسليم وخ...       1   \n",
       "4                          شكرا على حسن تعاونكم معنا       5   \n",
       "\n",
       "           review_date                                 developer_response  \\\n",
       "0  2023-01-04 15:47:27  We sincerely thank you for taking the time to ...   \n",
       "1  2023-01-04 15:46:03    سعيدين بخدمتك وشكرا لتقيمك نتطلع لخدمتك مستقبلا   \n",
       "2  2023-01-04 14:07:14    سعيدين بخدمتك وشكرا لتقيمك نتطلع لخدمتك مستقبلا   \n",
       "3  2023-01-04 13:52:23  مرحبا عذرا منك علي ذلك !  نود الحصول علي تفاصي...   \n",
       "4  2023-01-04 06:42:33  يسرنا سماع ذلك ونتمني ان نكون عند حسن ظنك دائم...   \n",
       "\n",
       "  developer_response_date    label  d_r_word_count  \n",
       "0     2023-01-04 21:06:38   Custom              11  \n",
       "1     2023-01-04 15:12:31  Generic               7  \n",
       "2     2023-01-04 19:51:33  Generic               7  \n",
       "3     2023-01-04 19:30:51  Generic              24  \n",
       "4     2023-01-04 15:50:52  Generic              17  "
      ]
     },
     "execution_count": 25,
     "metadata": {},
     "output_type": "execute_result"
    }
   ],
   "source": [
    "df.head()"
   ]
  },
  {
   "cell_type": "code",
   "execution_count": 26,
   "id": "baaed54b",
   "metadata": {},
   "outputs": [
    {
     "data": {
      "text/plain": [
       "count    283835.000000\n",
       "mean         16.858552\n",
       "std          14.098985\n",
       "min           1.000000\n",
       "25%           7.000000\n",
       "50%          14.000000\n",
       "75%          22.000000\n",
       "max          72.000000\n",
       "Name: d_r_word_count, dtype: float64"
      ]
     },
     "execution_count": 26,
     "metadata": {},
     "output_type": "execute_result"
    }
   ],
   "source": [
    "df['d_r_word_count'].describe()"
   ]
  }
 ],
 "metadata": {
  "kernelspec": {
   "display_name": "Python 3 (ipykernel)",
   "language": "python",
   "name": "python3"
  },
  "language_info": {
   "codemirror_mode": {
    "name": "ipython",
    "version": 3
   },
   "file_extension": ".py",
   "mimetype": "text/x-python",
   "name": "python",
   "nbconvert_exporter": "python",
   "pygments_lexer": "ipython3",
   "version": "3.9.13"
  }
 },
 "nbformat": 4,
 "nbformat_minor": 5
}
