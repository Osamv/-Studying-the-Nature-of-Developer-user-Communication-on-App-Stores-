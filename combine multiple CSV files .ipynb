{
 "cells": [
  {
   "cell_type": "markdown",
   "id": "d1ebbcf2",
   "metadata": {},
   "source": [
    "https://medium.com/@stella96joshua/how-to-combine-multiple-csv-files-using-python-for-your-analysis-a88017c6ff9e"
   ]
  },
  {
   "cell_type": "markdown",
   "id": "d20bb07e",
   "metadata": {},
   "source": [
    "How to combine multiple CSV files using Python for your analysis"
   ]
  },
  {
   "cell_type": "code",
   "execution_count": 1,
   "id": "e4aa432a",
   "metadata": {},
   "outputs": [],
   "source": [
    "# #import the modules\n",
    "# import os\n",
    "# import pandas as pd \n",
    "# #read the path\n",
    "# file_path = \"G:\\\\DESKTOP\\\\Senior\\\\Project last version\\\\1- merage file xsxl\\\\dataset\\\\\"\n",
    "# #list all the files from the directory\n",
    "# file_list = os.listdir(file_path)\n",
    "# file_list"
   ]
  },
  {
   "cell_type": "code",
   "execution_count": 2,
   "id": "9ab89681",
   "metadata": {},
   "outputs": [],
   "source": [
    "# df_append = pd.DataFrame()#append all files together\n",
    "# for file in file_list:\n",
    "#     print (file)\n",
    "  \n",
    "#     df_temp = pd.read_csv(os.path.join(file_path , file))\n",
    "#     df_append = df_append.append(df_temp, ignore_index=True)\n",
    "\n",
    "# df_append.shape"
   ]
  },
  {
   "cell_type": "code",
   "execution_count": 3,
   "id": "813d2306",
   "metadata": {},
   "outputs": [],
   "source": [
    "# df_append.to_csv('Combined_files.csv')"
   ]
  },
  {
   "cell_type": "code",
   "execution_count": null,
   "id": "6540789a",
   "metadata": {},
   "outputs": [],
   "source": []
  },
  {
   "cell_type": "code",
   "execution_count": 4,
   "id": "3f029e04",
   "metadata": {},
   "outputs": [
    {
     "data": {
      "text/plain": [
       "['aramex.csv',\n",
       " 'BOTIM.csv',\n",
       " 'Ezhalha.csv',\n",
       " 'ilovepdf.csv',\n",
       " 'jarirbookstore.csv',\n",
       " 'jawaker.csv',\n",
       " 'Jodel.csv',\n",
       " 'Locket.csv',\n",
       " 'namshi.csv',\n",
       " 'Noon.csv',\n",
       " 'Riyad Bank.csv',\n",
       " 'Sago Mini World.csv',\n",
       " 'scores365.csv',\n",
       " 'sehhaty.csv',\n",
       " 'Stc Pay.csv',\n",
       " 'VideoLeap.csv',\n",
       " 'vipbaloot.csv']"
      ]
     },
     "execution_count": 4,
     "metadata": {},
     "output_type": "execute_result"
    }
   ],
   "source": [
    "#import the modules\n",
    "import os\n",
    "import pandas as pd\n",
    "#read the path\n",
    "cwd = os.path.abspath('dataset_cleaning_decoded/')\n",
    "#list all the files from the directory\n",
    "file_list = os.listdir(cwd)\n",
    "file_list"
   ]
  },
  {
   "cell_type": "code",
   "execution_count": 5,
   "id": "7b631826",
   "metadata": {},
   "outputs": [
    {
     "data": {
      "text/plain": [
       "(740349, 8)"
      ]
     },
     "execution_count": 5,
     "metadata": {},
     "output_type": "execute_result"
    }
   ],
   "source": [
    "df_concat = pd.concat([pd.read_csv(os.path.join(cwd ,f)) for f in file_list ], ignore_index=True)\n",
    "\n",
    "df_concat.shape"
   ]
  },
  {
   "cell_type": "code",
   "execution_count": 6,
   "id": "0351f44f",
   "metadata": {},
   "outputs": [
    {
     "data": {
      "text/html": [
       "<div>\n",
       "<style scoped>\n",
       "    .dataframe tbody tr th:only-of-type {\n",
       "        vertical-align: middle;\n",
       "    }\n",
       "\n",
       "    .dataframe tbody tr th {\n",
       "        vertical-align: top;\n",
       "    }\n",
       "\n",
       "    .dataframe thead th {\n",
       "        text-align: right;\n",
       "    }\n",
       "</style>\n",
       "<table border=\"1\" class=\"dataframe\">\n",
       "  <thead>\n",
       "    <tr style=\"text-align: right;\">\n",
       "      <th></th>\n",
       "      <th>source</th>\n",
       "      <th>review_id</th>\n",
       "      <th>user_name</th>\n",
       "      <th>review_description</th>\n",
       "      <th>rating</th>\n",
       "      <th>review_date</th>\n",
       "      <th>developer_response</th>\n",
       "      <th>developer_response_date</th>\n",
       "    </tr>\n",
       "  </thead>\n",
       "  <tbody>\n",
       "    <tr>\n",
       "      <th>0</th>\n",
       "      <td>Google Play</td>\n",
       "      <td>d855686a-7ebe-4cef-911f-3d124bc2d61a</td>\n",
       "      <td>‫عمرو محمد (داود)‬‎</td>\n",
       "      <td>very good</td>\n",
       "      <td>5</td>\n",
       "      <td>2023-01-04 15:47:27</td>\n",
       "      <td>We sincerely thank you for taking the time to ...</td>\n",
       "      <td>2023-01-04 21:06:38</td>\n",
       "    </tr>\n",
       "    <tr>\n",
       "      <th>1</th>\n",
       "      <td>Google Play</td>\n",
       "      <td>0491e3b8-c262-4ef3-ab74-4a962a7a28ee</td>\n",
       "      <td>Moath Tobasi</td>\n",
       "      <td>ارمكس برنامج ممتاز لا يوجد اي تعليق المواعيد ف...</td>\n",
       "      <td>5</td>\n",
       "      <td>2023-01-04 15:46:03</td>\n",
       "      <td>سعيدين بخدمتك وشكراً لتقييمك نتطلع لخدمتك مستق...</td>\n",
       "      <td>2023-01-04 15:12:31</td>\n",
       "    </tr>\n",
       "    <tr>\n",
       "      <th>2</th>\n",
       "      <td>Google Play</td>\n",
       "      <td>0b537bf6-2dc3-4d4b-b239-6e6b916eaadc</td>\n",
       "      <td>Mohamed Mohamedy</td>\n",
       "      <td>فوق الممتاز</td>\n",
       "      <td>5</td>\n",
       "      <td>2023-01-04 14:07:14</td>\n",
       "      <td>سعيدين بخدمتك وشكراً لتقييمك نتطلع لخدمتك مستق...</td>\n",
       "      <td>2023-01-04 19:51:33</td>\n",
       "    </tr>\n",
       "    <tr>\n",
       "      <th>3</th>\n",
       "      <td>Google Play</td>\n",
       "      <td>5e50884e-e69a-4d05-8ae3-0b0aea7f278c</td>\n",
       "      <td>temoo tamam</td>\n",
       "      <td>خدمة سيئة جدا وعدم الالتزام بمواعيد التسليم وخ...</td>\n",
       "      <td>1</td>\n",
       "      <td>2023-01-04 13:52:23</td>\n",
       "      <td>مرحباً، عذراً منك على ذلك! نود الحصول على تفاص...</td>\n",
       "      <td>2023-01-04 19:30:51</td>\n",
       "    </tr>\n",
       "    <tr>\n",
       "      <th>4</th>\n",
       "      <td>Google Play</td>\n",
       "      <td>c29dbb95-8dfa-4918-94ca-5e124d405930</td>\n",
       "      <td>tufool mab</td>\n",
       "      <td>شكرا على حسن تعاونكم معنا</td>\n",
       "      <td>5</td>\n",
       "      <td>2023-01-04 06:42:33</td>\n",
       "      <td>يسرنا سماع ذلك، ونتمنى أن نكون عند حسن ظنك دائ...</td>\n",
       "      <td>2023-01-04 15:50:52</td>\n",
       "    </tr>\n",
       "  </tbody>\n",
       "</table>\n",
       "</div>"
      ],
      "text/plain": [
       "        source                             review_id            user_name  \\\n",
       "0  Google Play  d855686a-7ebe-4cef-911f-3d124bc2d61a  ‫عمرو محمد (داود)‬‎   \n",
       "1  Google Play  0491e3b8-c262-4ef3-ab74-4a962a7a28ee         Moath Tobasi   \n",
       "2  Google Play  0b537bf6-2dc3-4d4b-b239-6e6b916eaadc     Mohamed Mohamedy   \n",
       "3  Google Play  5e50884e-e69a-4d05-8ae3-0b0aea7f278c          temoo tamam   \n",
       "4  Google Play  c29dbb95-8dfa-4918-94ca-5e124d405930           tufool mab   \n",
       "\n",
       "                                  review_description  rating  \\\n",
       "0                                          very good       5   \n",
       "1  ارمكس برنامج ممتاز لا يوجد اي تعليق المواعيد ف...       5   \n",
       "2                                        فوق الممتاز       5   \n",
       "3  خدمة سيئة جدا وعدم الالتزام بمواعيد التسليم وخ...       1   \n",
       "4                          شكرا على حسن تعاونكم معنا       5   \n",
       "\n",
       "           review_date                                 developer_response  \\\n",
       "0  2023-01-04 15:47:27  We sincerely thank you for taking the time to ...   \n",
       "1  2023-01-04 15:46:03  سعيدين بخدمتك وشكراً لتقييمك نتطلع لخدمتك مستق...   \n",
       "2  2023-01-04 14:07:14  سعيدين بخدمتك وشكراً لتقييمك نتطلع لخدمتك مستق...   \n",
       "3  2023-01-04 13:52:23  مرحباً، عذراً منك على ذلك! نود الحصول على تفاص...   \n",
       "4  2023-01-04 06:42:33  يسرنا سماع ذلك، ونتمنى أن نكون عند حسن ظنك دائ...   \n",
       "\n",
       "  developer_response_date  \n",
       "0     2023-01-04 21:06:38  \n",
       "1     2023-01-04 15:12:31  \n",
       "2     2023-01-04 19:51:33  \n",
       "3     2023-01-04 19:30:51  \n",
       "4     2023-01-04 15:50:52  "
      ]
     },
     "execution_count": 6,
     "metadata": {},
     "output_type": "execute_result"
    }
   ],
   "source": [
    "df_concat.head()"
   ]
  },
  {
   "cell_type": "code",
   "execution_count": 7,
   "id": "3df601cf",
   "metadata": {},
   "outputs": [],
   "source": [
    "df_concat.to_csv(\"Combined_files.csv\", encoding='utf-8-sig', index=False , header=True)"
   ]
  },
  {
   "cell_type": "code",
   "execution_count": null,
   "id": "9b94547d",
   "metadata": {},
   "outputs": [],
   "source": []
  }
 ],
 "metadata": {
  "kernelspec": {
   "display_name": "Python 3 (ipykernel)",
   "language": "python",
   "name": "python3"
  },
  "language_info": {
   "codemirror_mode": {
    "name": "ipython",
    "version": 3
   },
   "file_extension": ".py",
   "mimetype": "text/x-python",
   "name": "python",
   "nbconvert_exporter": "python",
   "pygments_lexer": "ipython3",
   "version": "3.9.13"
  }
 },
 "nbformat": 4,
 "nbformat_minor": 5
}
